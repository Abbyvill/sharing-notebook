{
 "cells": [
  {
   "cell_type": "markdown",
   "metadata": {},
   "source": [
    "# Blackwell Customer Demohraphics\n",
    "\n",
    "#### Abigail Villanueva\n",
    "#### Updated: 2020.07.24"
   ]
  },
  {
   "cell_type": "markdown",
   "metadata": {},
   "source": [
    "### The objective of this project is to answer the following questions:\n",
    "### Task 1\n",
    "#### 1a) Do customers in different regions spend more per transaction?\n",
    "#### 1b) Which regions spend the most/least? Is there a relationship between the number of items purchased and amount spent?\n",
    "#### 2) Is there a relationship between the number of items purchased and amount spent?\n",
    "### Task 2\n",
    "#### 3a) Are there differences in the age of customers between regions?\n",
    "#### 3b) If so, can we predict the age of a customer in a region based on other demographic data?\n",
    "#### 4a) Is there any correlation between age of a customer and if the transaction was made online or in the store?\n",
    "#### 4b) Do any other factors predict if a customer will buy online or in our stores?"
   ]
  },
  {
   "cell_type": "markdown",
   "metadata": {},
   "source": [
    "## Import Packages"
   ]
  },
  {
   "cell_type": "code",
   "execution_count": 83,
   "metadata": {},
   "outputs": [],
   "source": [
    "# Basics\n",
    "import numpy as np\n",
    "import pandas as pd\n",
    "import matplotlib.pyplot as plt\n",
    "import pandas_profiling   # will need to install at CLI\n",
    "import seaborn as sb\n",
    "\n",
    "# SKLearn\n",
    "from sklearn.model_selection import train_test_split\n",
    "from sklearn.metrics import accuracy_score, classification_report\n",
    "from sklearn.ensemble import RandomForestClassifier, GradientBoostingClassifier\n",
    "from sklearn.tree import DecisionTreeClassifier\n",
    "from sklearn.model_selection import cross_val_score\n",
    "from sklearn.model_selection import KFold\n",
    "from sklearn import tree\n",
    "from sklearn.metrics import confusion_matrix\n",
    "from sklearn import ensemble\n",
    "from sklearn.datasets import load_digits\n",
    "\n",
    "# helpers\n",
    "%matplotlib inline\n",
    "\n",
    "# Grahpviz \n",
    "from sklearn.externals.six import StringIO \n",
    "from IPython.display import Image \n",
    "from sklearn.tree import export_graphviz\n",
    "import pydotplus\n",
    "import graphviz"
   ]
  },
  {
   "cell_type": "markdown",
   "metadata": {},
   "source": [
    "## Import Data"
   ]
  },
  {
   "cell_type": "code",
   "execution_count": 84,
   "metadata": {},
   "outputs": [
    {
     "data": {
      "text/plain": [
       "'C:\\\\Users\\\\PLZ1669\\\\Desktop\\\\Data Analytics Certificate Program\\\\Course One\\\\Task 2'"
      ]
     },
     "execution_count": 84,
     "metadata": {},
     "output_type": "execute_result"
    }
   ],
   "source": [
    "pwd"
   ]
  },
  {
   "cell_type": "code",
   "execution_count": 85,
   "metadata": {},
   "outputs": [
    {
     "name": "stdout",
     "output_type": "stream",
     "text": [
      " Volume in drive C is Windows\n",
      " Volume Serial Number is 4AF2-2EB8\n",
      "\n",
      " Directory of C:\\Users\\PLZ1669\\Desktop\\Data Analytics Certificate Program\\Course One\\Task 2\n",
      "\n",
      "07/24/2020  06:19 PM    <DIR>          .\n",
      "07/24/2020  06:19 PM    <DIR>          ..\n",
      "07/21/2020  10:40 PM    <DIR>          .ipynb_checkpoints\n",
      "07/03/2020  02:56 AM            80,397 C1 T2 Memo.docx\n",
      "07/12/2020  10:59 PM           199,284 custDemoClass.ipynb\n",
      "06/22/2020  09:40 PM         1,348,525 Demographic_Data.csv\n",
      "07/17/2020  01:04 AM         8,498,355 Notes.docx\n",
      "07/17/2020  02:04 AM           433,630 Task 2 - In depth analysis - practice.ipynb\n",
      "07/24/2020  06:17 PM           746,312 Task 2 Course 2 - Blaclwell Customer Demographics.ipynb\n",
      "               6 File(s)     11,306,503 bytes\n",
      "               3 Dir(s)  426,385,973,248 bytes free\n"
     ]
    }
   ],
   "source": [
    "ls"
   ]
  },
  {
   "cell_type": "code",
   "execution_count": 86,
   "metadata": {},
   "outputs": [
    {
     "name": "stdout",
     "output_type": "stream",
     "text": [
      "(80000, 5)\n"
     ]
    }
   ],
   "source": [
    "data = pd.read_csv('Demographic_Data.csv')\n",
    "print(data.shape)"
   ]
  },
  {
   "cell_type": "markdown",
   "metadata": {},
   "source": [
    "## Evaluate Data "
   ]
  },
  {
   "cell_type": "code",
   "execution_count": 87,
   "metadata": {},
   "outputs": [
    {
     "name": "stdout",
     "output_type": "stream",
     "text": [
      "(1797, 64)\n"
     ]
    }
   ],
   "source": [
    "# Load digits dataset\n",
    "digits = load_digits()\n",
    "print(digits.data.shape)"
   ]
  },
  {
   "cell_type": "code",
   "execution_count": 88,
   "metadata": {},
   "outputs": [
    {
     "name": "stdout",
     "output_type": "stream",
     "text": [
      "[[ 0.  0.  5. ...  0.  0.  0.]\n",
      " [ 0.  0.  0. ... 10.  0.  0.]\n",
      " [ 0.  0.  0. ... 16.  9.  0.]\n",
      " ...\n",
      " [ 0.  0.  1. ...  6.  0.  0.]\n",
      " [ 0.  0.  2. ... 12.  0.  0.]\n",
      " [ 0.  0. 10. ... 12.  1.  0.]]\n"
     ]
    }
   ],
   "source": [
    "# Create feature matrix\n",
    "print(digits.data)"
   ]
  },
  {
   "cell_type": "code",
   "execution_count": 89,
   "metadata": {},
   "outputs": [
    {
     "data": {
      "text/plain": [
       "array([0, 1, 2, ..., 8, 9, 8])"
      ]
     },
     "execution_count": 89,
     "metadata": {},
     "output_type": "execute_result"
    }
   ],
   "source": [
    "# Create target vector\n",
    "digits.target"
   ]
  },
  {
   "cell_type": "code",
   "execution_count": 90,
   "metadata": {},
   "outputs": [
    {
     "data": {
      "text/plain": [
       "array([[ 0.,  0.,  5., 13.,  9.,  1.,  0.,  0.],\n",
       "       [ 0.,  0., 13., 15., 10., 15.,  5.,  0.],\n",
       "       [ 0.,  3., 15.,  2.,  0., 11.,  8.,  0.],\n",
       "       [ 0.,  4., 12.,  0.,  0.,  8.,  8.,  0.],\n",
       "       [ 0.,  5.,  8.,  0.,  0.,  9.,  8.,  0.],\n",
       "       [ 0.,  4., 11.,  0.,  1., 12.,  7.,  0.],\n",
       "       [ 0.,  2., 14.,  5., 10., 12.,  0.,  0.],\n",
       "       [ 0.,  0.,  6., 13., 10.,  0.,  0.,  0.]])"
      ]
     },
     "execution_count": 90,
     "metadata": {},
     "output_type": "execute_result"
    }
   ],
   "source": [
    "# View the first observation's feature values as a matrix\n",
    "digits.images[0]"
   ]
  },
  {
   "cell_type": "code",
   "execution_count": 91,
   "metadata": {},
   "outputs": [
    {
     "data": {
      "text/plain": [
       "<Figure size 432x288 with 0 Axes>"
      ]
     },
     "metadata": {},
     "output_type": "display_data"
    },
    {
     "data": {
      "image/png": "[encoded data removed]",
      "text/plain": [
       "<Figure size 288x288 with 1 Axes>"
      ]
     },
     "metadata": {
      "needs_background": "light"
     },
     "output_type": "display_data"
    }
   ],
   "source": [
    "# Visualize the first observation's feature values as an image\n",
    "plt.gray() \n",
    "plt.matshow(digits.images[0]) \n",
    "plt.show()"
   ]
  },
  {
   "cell_type": "code",
   "execution_count": 92,
   "metadata": {},
   "outputs": [
    {
     "data": {
      "text/html": [
       "<div>\n",
       "<style scoped>\n",
       "    .dataframe tbody tr th:only-of-type {\n",
       "        vertical-align: middle;\n",
       "    }\n",
       "\n",
       "    .dataframe tbody tr th {\n",
       "        vertical-align: top;\n",
       "    }\n",
       "\n",
       "    .dataframe thead th {\n",
       "        text-align: right;\n",
       "    }\n",
       "</style>\n",
       "<table border=\"1\" class=\"dataframe\">\n",
       "  <thead>\n",
       "    <tr style=\"text-align: right;\">\n",
       "      <th></th>\n",
       "      <th>in-store</th>\n",
       "      <th>age</th>\n",
       "      <th>items</th>\n",
       "      <th>amount</th>\n",
       "      <th>region</th>\n",
       "    </tr>\n",
       "  </thead>\n",
       "  <tbody>\n",
       "    <tr>\n",
       "      <th>0</th>\n",
       "      <td>0</td>\n",
       "      <td>37</td>\n",
       "      <td>4</td>\n",
       "      <td>281.03</td>\n",
       "      <td>2</td>\n",
       "    </tr>\n",
       "    <tr>\n",
       "      <th>1</th>\n",
       "      <td>0</td>\n",
       "      <td>35</td>\n",
       "      <td>2</td>\n",
       "      <td>219.51</td>\n",
       "      <td>2</td>\n",
       "    </tr>\n",
       "    <tr>\n",
       "      <th>2</th>\n",
       "      <td>1</td>\n",
       "      <td>45</td>\n",
       "      <td>3</td>\n",
       "      <td>1525.70</td>\n",
       "      <td>4</td>\n",
       "    </tr>\n",
       "    <tr>\n",
       "      <th>3</th>\n",
       "      <td>1</td>\n",
       "      <td>46</td>\n",
       "      <td>3</td>\n",
       "      <td>715.25</td>\n",
       "      <td>3</td>\n",
       "    </tr>\n",
       "    <tr>\n",
       "      <th>4</th>\n",
       "      <td>1</td>\n",
       "      <td>33</td>\n",
       "      <td>4</td>\n",
       "      <td>1937.50</td>\n",
       "      <td>1</td>\n",
       "    </tr>\n",
       "  </tbody>\n",
       "</table>\n",
       "</div>"
      ],
      "text/plain": [
       "   in-store  age  items   amount  region\n",
       "0         0   37      4   281.03       2\n",
       "1         0   35      2   219.51       2\n",
       "2         1   45      3  1525.70       4\n",
       "3         1   46      3   715.25       3\n",
       "4         1   33      4  1937.50       1"
      ]
     },
     "execution_count": 92,
     "metadata": {},
     "output_type": "execute_result"
    }
   ],
   "source": [
    "data.head()"
   ]
  },
  {
   "cell_type": "code",
   "execution_count": 93,
   "metadata": {},
   "outputs": [
    {
     "data": {
      "text/plain": [
       "in-store      int64\n",
       "age           int64\n",
       "items         int64\n",
       "amount      float64\n",
       "region        int64\n",
       "dtype: object"
      ]
     },
     "execution_count": 93,
     "metadata": {},
     "output_type": "execute_result"
    }
   ],
   "source": [
    "data.dtypes"
   ]
  },
  {
   "cell_type": "code",
   "execution_count": 94,
   "metadata": {},
   "outputs": [
    {
     "name": "stdout",
     "output_type": "stream",
     "text": [
      "<class 'pandas.core.frame.DataFrame'>\n",
      "RangeIndex: 80000 entries, 0 to 79999\n",
      "Data columns (total 5 columns):\n",
      " #   Column    Non-Null Count  Dtype  \n",
      "---  ------    --------------  -----  \n",
      " 0   in-store  80000 non-null  int64  \n",
      " 1   age       80000 non-null  int64  \n",
      " 2   items     80000 non-null  int64  \n",
      " 3   amount    80000 non-null  float64\n",
      " 4   region    80000 non-null  int64  \n",
      "dtypes: float64(1), int64(4)\n",
      "memory usage: 3.1 MB\n"
     ]
    },
    {
     "data": {
      "text/plain": [
       "<AxesSubplot:>"
      ]
     },
     "execution_count": 94,
     "metadata": {},
     "output_type": "execute_result"
    },
    {
     "data": {
      "image/png": "[encoded data removed]",
      "text/plain": [
       "<Figure size 432x288 with 2 Axes>"
      ]
     },
     "metadata": {
      "needs_background": "light"
     },
     "output_type": "display_data"
    }
   ],
   "source": [
    "data.info()\n",
    "sb.heatmap(data.isnull())"
   ]
  },
  {
   "cell_type": "code",
   "execution_count": 95,
   "metadata": {},
   "outputs": [
    {
     "data": {
      "text/plain": [
       "Index(['in-store', 'age', 'items', 'amount', 'region'], dtype='object')"
      ]
     },
     "execution_count": 95,
     "metadata": {},
     "output_type": "execute_result"
    }
   ],
   "source": [
    "data.columns"
   ]
  },
  {
   "cell_type": "markdown",
   "metadata": {},
   "source": [
    "## Preprocess"
   ]
  },
  {
   "cell_type": "markdown",
   "metadata": {},
   "source": [
    "### Duplicates"
   ]
  },
  {
   "cell_type": "code",
   "execution_count": 96,
   "metadata": {},
   "outputs": [
    {
     "data": {
      "text/plain": [
       "True"
      ]
     },
     "execution_count": 96,
     "metadata": {},
     "output_type": "execute_result"
    }
   ],
   "source": [
    "data.duplicated().any()"
   ]
  },
  {
   "cell_type": "code",
   "execution_count": 97,
   "metadata": {},
   "outputs": [
    {
     "name": "stdout",
     "output_type": "stream",
     "text": [
      "(21, 5)\n"
     ]
    },
    {
     "data": {
      "text/html": [
       "<div>\n",
       "<style scoped>\n",
       "    .dataframe tbody tr th:only-of-type {\n",
       "        vertical-align: middle;\n",
       "    }\n",
       "\n",
       "    .dataframe tbody tr th {\n",
       "        vertical-align: top;\n",
       "    }\n",
       "\n",
       "    .dataframe thead th {\n",
       "        text-align: right;\n",
       "    }\n",
       "</style>\n",
       "<table border=\"1\" class=\"dataframe\">\n",
       "  <thead>\n",
       "    <tr style=\"text-align: right;\">\n",
       "      <th></th>\n",
       "      <th>in-store</th>\n",
       "      <th>age</th>\n",
       "      <th>items</th>\n",
       "      <th>amount</th>\n",
       "      <th>region</th>\n",
       "    </tr>\n",
       "  </thead>\n",
       "  <tbody>\n",
       "    <tr>\n",
       "      <th>17858</th>\n",
       "      <td>0</td>\n",
       "      <td>76</td>\n",
       "      <td>6</td>\n",
       "      <td>283.61</td>\n",
       "      <td>2</td>\n",
       "    </tr>\n",
       "    <tr>\n",
       "      <th>26112</th>\n",
       "      <td>0</td>\n",
       "      <td>67</td>\n",
       "      <td>4</td>\n",
       "      <td>320.41</td>\n",
       "      <td>2</td>\n",
       "    </tr>\n",
       "    <tr>\n",
       "      <th>29343</th>\n",
       "      <td>1</td>\n",
       "      <td>23</td>\n",
       "      <td>2</td>\n",
       "      <td>1019.50</td>\n",
       "      <td>4</td>\n",
       "    </tr>\n",
       "    <tr>\n",
       "      <th>33834</th>\n",
       "      <td>1</td>\n",
       "      <td>38</td>\n",
       "      <td>3</td>\n",
       "      <td>1993.80</td>\n",
       "      <td>1</td>\n",
       "    </tr>\n",
       "    <tr>\n",
       "      <th>34214</th>\n",
       "      <td>1</td>\n",
       "      <td>31</td>\n",
       "      <td>5</td>\n",
       "      <td>1488.10</td>\n",
       "      <td>4</td>\n",
       "    </tr>\n",
       "    <tr>\n",
       "      <th>34706</th>\n",
       "      <td>0</td>\n",
       "      <td>39</td>\n",
       "      <td>5</td>\n",
       "      <td>1268.00</td>\n",
       "      <td>4</td>\n",
       "    </tr>\n",
       "    <tr>\n",
       "      <th>35971</th>\n",
       "      <td>0</td>\n",
       "      <td>38</td>\n",
       "      <td>7</td>\n",
       "      <td>391.51</td>\n",
       "      <td>2</td>\n",
       "    </tr>\n",
       "    <tr>\n",
       "      <th>43958</th>\n",
       "      <td>1</td>\n",
       "      <td>22</td>\n",
       "      <td>1</td>\n",
       "      <td>1303.20</td>\n",
       "      <td>4</td>\n",
       "    </tr>\n",
       "    <tr>\n",
       "      <th>44308</th>\n",
       "      <td>1</td>\n",
       "      <td>26</td>\n",
       "      <td>5</td>\n",
       "      <td>1495.70</td>\n",
       "      <td>4</td>\n",
       "    </tr>\n",
       "    <tr>\n",
       "      <th>45164</th>\n",
       "      <td>0</td>\n",
       "      <td>79</td>\n",
       "      <td>6</td>\n",
       "      <td>342.28</td>\n",
       "      <td>2</td>\n",
       "    </tr>\n",
       "    <tr>\n",
       "      <th>47414</th>\n",
       "      <td>0</td>\n",
       "      <td>27</td>\n",
       "      <td>6</td>\n",
       "      <td>1555.10</td>\n",
       "      <td>4</td>\n",
       "    </tr>\n",
       "    <tr>\n",
       "      <th>51600</th>\n",
       "      <td>0</td>\n",
       "      <td>56</td>\n",
       "      <td>2</td>\n",
       "      <td>1941.70</td>\n",
       "      <td>4</td>\n",
       "    </tr>\n",
       "    <tr>\n",
       "      <th>52013</th>\n",
       "      <td>1</td>\n",
       "      <td>50</td>\n",
       "      <td>5</td>\n",
       "      <td>1889.40</td>\n",
       "      <td>1</td>\n",
       "    </tr>\n",
       "    <tr>\n",
       "      <th>53652</th>\n",
       "      <td>0</td>\n",
       "      <td>29</td>\n",
       "      <td>2</td>\n",
       "      <td>144.43</td>\n",
       "      <td>2</td>\n",
       "    </tr>\n",
       "    <tr>\n",
       "      <th>58454</th>\n",
       "      <td>0</td>\n",
       "      <td>76</td>\n",
       "      <td>1</td>\n",
       "      <td>259.44</td>\n",
       "      <td>2</td>\n",
       "    </tr>\n",
       "    <tr>\n",
       "      <th>59539</th>\n",
       "      <td>1</td>\n",
       "      <td>49</td>\n",
       "      <td>2</td>\n",
       "      <td>1162.00</td>\n",
       "      <td>4</td>\n",
       "    </tr>\n",
       "    <tr>\n",
       "      <th>59859</th>\n",
       "      <td>0</td>\n",
       "      <td>30</td>\n",
       "      <td>7</td>\n",
       "      <td>2535.10</td>\n",
       "      <td>4</td>\n",
       "    </tr>\n",
       "    <tr>\n",
       "      <th>61439</th>\n",
       "      <td>1</td>\n",
       "      <td>32</td>\n",
       "      <td>4</td>\n",
       "      <td>1106.10</td>\n",
       "      <td>4</td>\n",
       "    </tr>\n",
       "    <tr>\n",
       "      <th>63970</th>\n",
       "      <td>1</td>\n",
       "      <td>42</td>\n",
       "      <td>5</td>\n",
       "      <td>1731.10</td>\n",
       "      <td>4</td>\n",
       "    </tr>\n",
       "    <tr>\n",
       "      <th>75506</th>\n",
       "      <td>0</td>\n",
       "      <td>44</td>\n",
       "      <td>2</td>\n",
       "      <td>1756.70</td>\n",
       "      <td>4</td>\n",
       "    </tr>\n",
       "    <tr>\n",
       "      <th>78688</th>\n",
       "      <td>1</td>\n",
       "      <td>40</td>\n",
       "      <td>2</td>\n",
       "      <td>1080.60</td>\n",
       "      <td>1</td>\n",
       "    </tr>\n",
       "  </tbody>\n",
       "</table>\n",
       "</div>"
      ],
      "text/plain": [
       "       in-store  age  items   amount  region\n",
       "17858         0   76      6   283.61       2\n",
       "26112         0   67      4   320.41       2\n",
       "29343         1   23      2  1019.50       4\n",
       "33834         1   38      3  1993.80       1\n",
       "34214         1   31      5  1488.10       4\n",
       "34706         0   39      5  1268.00       4\n",
       "35971         0   38      7   391.51       2\n",
       "43958         1   22      1  1303.20       4\n",
       "44308         1   26      5  1495.70       4\n",
       "45164         0   79      6   342.28       2\n",
       "47414         0   27      6  1555.10       4\n",
       "51600         0   56      2  1941.70       4\n",
       "52013         1   50      5  1889.40       1\n",
       "53652         0   29      2   144.43       2\n",
       "58454         0   76      1   259.44       2\n",
       "59539         1   49      2  1162.00       4\n",
       "59859         0   30      7  2535.10       4\n",
       "61439         1   32      4  1106.10       4\n",
       "63970         1   42      5  1731.10       4\n",
       "75506         0   44      2  1756.70       4\n",
       "78688         1   40      2  1080.60       1"
      ]
     },
     "execution_count": 97,
     "metadata": {},
     "output_type": "execute_result"
    }
   ],
   "source": [
    "print(data[data.duplicated()].shape)\n",
    "data[data.duplicated()]"
   ]
  },
  {
   "cell_type": "code",
   "execution_count": 98,
   "metadata": {},
   "outputs": [
    {
     "data": {
      "text/plain": [
       "False"
      ]
     },
     "execution_count": 98,
     "metadata": {},
     "output_type": "execute_result"
    }
   ],
   "source": [
    "data = data.drop_duplicates()\n",
    "data.duplicated().any()"
   ]
  },
  {
   "cell_type": "markdown",
   "metadata": {},
   "source": [
    "### Null Values"
   ]
  },
  {
   "cell_type": "code",
   "execution_count": 99,
   "metadata": {},
   "outputs": [
    {
     "data": {
      "text/plain": [
       "in-store    False\n",
       "age         False\n",
       "items       False\n",
       "amount      False\n",
       "region      False\n",
       "dtype: bool"
      ]
     },
     "execution_count": 99,
     "metadata": {},
     "output_type": "execute_result"
    }
   ],
   "source": [
    "data.isnull().any()"
   ]
  },
  {
   "cell_type": "code",
   "execution_count": 100,
   "metadata": {},
   "outputs": [
    {
     "name": "stdout",
     "output_type": "stream",
     "text": [
      "in-store    0\n",
      "age         0\n",
      "items       0\n",
      "amount      0\n",
      "region      0\n",
      "dtype: int64\n"
     ]
    }
   ],
   "source": [
    "print(data.isnull().sum())"
   ]
  },
  {
   "cell_type": "markdown",
   "metadata": {},
   "source": [
    "### Discretize"
   ]
  },
  {
   "cell_type": "code",
   "execution_count": 101,
   "metadata": {},
   "outputs": [
    {
     "data": {
      "text/html": [
       "<div>\n",
       "<style scoped>\n",
       "    .dataframe tbody tr th:only-of-type {\n",
       "        vertical-align: middle;\n",
       "    }\n",
       "\n",
       "    .dataframe tbody tr th {\n",
       "        vertical-align: top;\n",
       "    }\n",
       "\n",
       "    .dataframe thead th {\n",
       "        text-align: right;\n",
       "    }\n",
       "</style>\n",
       "<table border=\"1\" class=\"dataframe\">\n",
       "  <thead>\n",
       "    <tr style=\"text-align: right;\">\n",
       "      <th></th>\n",
       "      <th>in-store</th>\n",
       "      <th>age</th>\n",
       "      <th>items</th>\n",
       "      <th>amount</th>\n",
       "      <th>region</th>\n",
       "      <th>Amount($)</th>\n",
       "    </tr>\n",
       "  </thead>\n",
       "  <tbody>\n",
       "    <tr>\n",
       "      <th>0</th>\n",
       "      <td>0</td>\n",
       "      <td>37</td>\n",
       "      <td>4</td>\n",
       "      <td>281.0300</td>\n",
       "      <td>2</td>\n",
       "      <td>Below 1,000</td>\n",
       "    </tr>\n",
       "    <tr>\n",
       "      <th>1</th>\n",
       "      <td>0</td>\n",
       "      <td>35</td>\n",
       "      <td>2</td>\n",
       "      <td>219.5100</td>\n",
       "      <td>2</td>\n",
       "      <td>Below 1,000</td>\n",
       "    </tr>\n",
       "    <tr>\n",
       "      <th>2</th>\n",
       "      <td>1</td>\n",
       "      <td>45</td>\n",
       "      <td>3</td>\n",
       "      <td>1525.7000</td>\n",
       "      <td>4</td>\n",
       "      <td>1,000 to 2,000</td>\n",
       "    </tr>\n",
       "    <tr>\n",
       "      <th>3</th>\n",
       "      <td>1</td>\n",
       "      <td>46</td>\n",
       "      <td>3</td>\n",
       "      <td>715.2500</td>\n",
       "      <td>3</td>\n",
       "      <td>Below 1,000</td>\n",
       "    </tr>\n",
       "    <tr>\n",
       "      <th>4</th>\n",
       "      <td>1</td>\n",
       "      <td>33</td>\n",
       "      <td>4</td>\n",
       "      <td>1937.5000</td>\n",
       "      <td>1</td>\n",
       "      <td>1,000 to 2,000</td>\n",
       "    </tr>\n",
       "    <tr>\n",
       "      <th>5</th>\n",
       "      <td>0</td>\n",
       "      <td>24</td>\n",
       "      <td>3</td>\n",
       "      <td>1314.2000</td>\n",
       "      <td>4</td>\n",
       "      <td>1,000 to 2,000</td>\n",
       "    </tr>\n",
       "    <tr>\n",
       "      <th>6</th>\n",
       "      <td>0</td>\n",
       "      <td>43</td>\n",
       "      <td>6</td>\n",
       "      <td>8.5472</td>\n",
       "      <td>2</td>\n",
       "      <td>Below 1,000</td>\n",
       "    </tr>\n",
       "    <tr>\n",
       "      <th>7</th>\n",
       "      <td>1</td>\n",
       "      <td>66</td>\n",
       "      <td>5</td>\n",
       "      <td>819.9800</td>\n",
       "      <td>3</td>\n",
       "      <td>Below 1,000</td>\n",
       "    </tr>\n",
       "    <tr>\n",
       "      <th>8</th>\n",
       "      <td>1</td>\n",
       "      <td>51</td>\n",
       "      <td>5</td>\n",
       "      <td>908.3100</td>\n",
       "      <td>1</td>\n",
       "      <td>Below 1,000</td>\n",
       "    </tr>\n",
       "    <tr>\n",
       "      <th>9</th>\n",
       "      <td>1</td>\n",
       "      <td>47</td>\n",
       "      <td>3</td>\n",
       "      <td>767.5400</td>\n",
       "      <td>1</td>\n",
       "      <td>Below 1,000</td>\n",
       "    </tr>\n",
       "  </tbody>\n",
       "</table>\n",
       "</div>"
      ],
      "text/plain": [
       "   in-store  age  items     amount  region       Amount($)\n",
       "0         0   37      4   281.0300       2     Below 1,000\n",
       "1         0   35      2   219.5100       2     Below 1,000\n",
       "2         1   45      3  1525.7000       4  1,000 to 2,000\n",
       "3         1   46      3   715.2500       3     Below 1,000\n",
       "4         1   33      4  1937.5000       1  1,000 to 2,000\n",
       "5         0   24      3  1314.2000       4  1,000 to 2,000\n",
       "6         0   43      6     8.5472       2     Below 1,000\n",
       "7         1   66      5   819.9800       3     Below 1,000\n",
       "8         1   51      5   908.3100       1     Below 1,000\n",
       "9         1   47      3   767.5400       1     Below 1,000"
      ]
     },
     "execution_count": 101,
     "metadata": {},
     "output_type": "execute_result"
    }
   ],
   "source": [
    "#Discretize Amount\n",
    "data['Amount($)']=pd.cut(data['amount'],3,labels=['Below 1,000','1,000 to 2,000','Over 2,000'])\n",
    "\n",
    "data.head(10)"
   ]
  },
  {
   "cell_type": "code",
   "execution_count": 102,
   "metadata": {},
   "outputs": [
    {
     "data": {
      "text/html": [
       "<div>\n",
       "<style scoped>\n",
       "    .dataframe tbody tr th:only-of-type {\n",
       "        vertical-align: middle;\n",
       "    }\n",
       "\n",
       "    .dataframe tbody tr th {\n",
       "        vertical-align: top;\n",
       "    }\n",
       "\n",
       "    .dataframe thead th {\n",
       "        text-align: right;\n",
       "    }\n",
       "</style>\n",
       "<table border=\"1\" class=\"dataframe\">\n",
       "  <thead>\n",
       "    <tr style=\"text-align: right;\">\n",
       "      <th></th>\n",
       "      <th>in-store</th>\n",
       "      <th>age</th>\n",
       "      <th>items</th>\n",
       "      <th>amount</th>\n",
       "      <th>region</th>\n",
       "      <th>Amount($)</th>\n",
       "      <th>Age</th>\n",
       "    </tr>\n",
       "  </thead>\n",
       "  <tbody>\n",
       "    <tr>\n",
       "      <th>0</th>\n",
       "      <td>0</td>\n",
       "      <td>37</td>\n",
       "      <td>4</td>\n",
       "      <td>281.0300</td>\n",
       "      <td>2</td>\n",
       "      <td>Below 1,000</td>\n",
       "      <td>30-59</td>\n",
       "    </tr>\n",
       "    <tr>\n",
       "      <th>1</th>\n",
       "      <td>0</td>\n",
       "      <td>35</td>\n",
       "      <td>2</td>\n",
       "      <td>219.5100</td>\n",
       "      <td>2</td>\n",
       "      <td>Below 1,000</td>\n",
       "      <td>30-59</td>\n",
       "    </tr>\n",
       "    <tr>\n",
       "      <th>2</th>\n",
       "      <td>1</td>\n",
       "      <td>45</td>\n",
       "      <td>3</td>\n",
       "      <td>1525.7000</td>\n",
       "      <td>4</td>\n",
       "      <td>1,000 to 2,000</td>\n",
       "      <td>30-59</td>\n",
       "    </tr>\n",
       "    <tr>\n",
       "      <th>3</th>\n",
       "      <td>1</td>\n",
       "      <td>46</td>\n",
       "      <td>3</td>\n",
       "      <td>715.2500</td>\n",
       "      <td>3</td>\n",
       "      <td>Below 1,000</td>\n",
       "      <td>30-59</td>\n",
       "    </tr>\n",
       "    <tr>\n",
       "      <th>4</th>\n",
       "      <td>1</td>\n",
       "      <td>33</td>\n",
       "      <td>4</td>\n",
       "      <td>1937.5000</td>\n",
       "      <td>1</td>\n",
       "      <td>1,000 to 2,000</td>\n",
       "      <td>30-59</td>\n",
       "    </tr>\n",
       "    <tr>\n",
       "      <th>5</th>\n",
       "      <td>0</td>\n",
       "      <td>24</td>\n",
       "      <td>3</td>\n",
       "      <td>1314.2000</td>\n",
       "      <td>4</td>\n",
       "      <td>1,000 to 2,000</td>\n",
       "      <td>&lt;30</td>\n",
       "    </tr>\n",
       "    <tr>\n",
       "      <th>6</th>\n",
       "      <td>0</td>\n",
       "      <td>43</td>\n",
       "      <td>6</td>\n",
       "      <td>8.5472</td>\n",
       "      <td>2</td>\n",
       "      <td>Below 1,000</td>\n",
       "      <td>30-59</td>\n",
       "    </tr>\n",
       "    <tr>\n",
       "      <th>7</th>\n",
       "      <td>1</td>\n",
       "      <td>66</td>\n",
       "      <td>5</td>\n",
       "      <td>819.9800</td>\n",
       "      <td>3</td>\n",
       "      <td>Below 1,000</td>\n",
       "      <td>60-85</td>\n",
       "    </tr>\n",
       "    <tr>\n",
       "      <th>8</th>\n",
       "      <td>1</td>\n",
       "      <td>51</td>\n",
       "      <td>5</td>\n",
       "      <td>908.3100</td>\n",
       "      <td>1</td>\n",
       "      <td>Below 1,000</td>\n",
       "      <td>30-59</td>\n",
       "    </tr>\n",
       "    <tr>\n",
       "      <th>9</th>\n",
       "      <td>1</td>\n",
       "      <td>47</td>\n",
       "      <td>3</td>\n",
       "      <td>767.5400</td>\n",
       "      <td>1</td>\n",
       "      <td>Below 1,000</td>\n",
       "      <td>30-59</td>\n",
       "    </tr>\n",
       "  </tbody>\n",
       "</table>\n",
       "</div>"
      ],
      "text/plain": [
       "   in-store  age  items     amount  region       Amount($)    Age\n",
       "0         0   37      4   281.0300       2     Below 1,000  30-59\n",
       "1         0   35      2   219.5100       2     Below 1,000  30-59\n",
       "2         1   45      3  1525.7000       4  1,000 to 2,000  30-59\n",
       "3         1   46      3   715.2500       3     Below 1,000  30-59\n",
       "4         1   33      4  1937.5000       1  1,000 to 2,000  30-59\n",
       "5         0   24      3  1314.2000       4  1,000 to 2,000    <30\n",
       "6         0   43      6     8.5472       2     Below 1,000  30-59\n",
       "7         1   66      5   819.9800       3     Below 1,000  60-85\n",
       "8         1   51      5   908.3100       1     Below 1,000  30-59\n",
       "9         1   47      3   767.5400       1     Below 1,000  30-59"
      ]
     },
     "execution_count": 102,
     "metadata": {},
     "output_type": "execute_result"
    }
   ],
   "source": [
    "#Discretize Age\n",
    "data['Age'] = pd.cut(data['age'], bins=[18,29,59,85], labels=['<30', '30-59', '60-85'], include_lowest = True)\n",
    "\n",
    "data.head(10)"
   ]
  },
  {
   "cell_type": "markdown",
   "metadata": {},
   "source": [
    "## Analyze Data"
   ]
  },
  {
   "cell_type": "markdown",
   "metadata": {},
   "source": [
    "### Statistical Analysis"
   ]
  },
  {
   "cell_type": "code",
   "execution_count": 104,
   "metadata": {},
   "outputs": [
    {
     "data": {
      "text/html": [
       "<div>\n",
       "<style scoped>\n",
       "    .dataframe tbody tr th:only-of-type {\n",
       "        vertical-align: middle;\n",
       "    }\n",
       "\n",
       "    .dataframe tbody tr th {\n",
       "        vertical-align: top;\n",
       "    }\n",
       "\n",
       "    .dataframe thead th {\n",
       "        text-align: right;\n",
       "    }\n",
       "</style>\n",
       "<table border=\"1\" class=\"dataframe\">\n",
       "  <thead>\n",
       "    <tr style=\"text-align: right;\">\n",
       "      <th></th>\n",
       "      <th>in-store</th>\n",
       "      <th>age</th>\n",
       "      <th>items</th>\n",
       "      <th>amount</th>\n",
       "      <th>region</th>\n",
       "    </tr>\n",
       "  </thead>\n",
       "  <tbody>\n",
       "    <tr>\n",
       "      <th>count</th>\n",
       "      <td>79979.000000</td>\n",
       "      <td>79979.000000</td>\n",
       "      <td>79979.000000</td>\n",
       "      <td>79979.000000</td>\n",
       "      <td>79979.000000</td>\n",
       "    </tr>\n",
       "    <tr>\n",
       "      <th>mean</th>\n",
       "      <td>0.500006</td>\n",
       "      <td>45.758512</td>\n",
       "      <td>4.505133</td>\n",
       "      <td>835.825727</td>\n",
       "      <td>2.674915</td>\n",
       "    </tr>\n",
       "    <tr>\n",
       "      <th>std</th>\n",
       "      <td>0.500003</td>\n",
       "      <td>15.715158</td>\n",
       "      <td>2.061250</td>\n",
       "      <td>721.263650</td>\n",
       "      <td>1.126642</td>\n",
       "    </tr>\n",
       "    <tr>\n",
       "      <th>min</th>\n",
       "      <td>0.000000</td>\n",
       "      <td>18.000000</td>\n",
       "      <td>1.000000</td>\n",
       "      <td>5.004700</td>\n",
       "      <td>1.000000</td>\n",
       "    </tr>\n",
       "    <tr>\n",
       "      <th>25%</th>\n",
       "      <td>0.000000</td>\n",
       "      <td>33.000000</td>\n",
       "      <td>3.000000</td>\n",
       "      <td>285.120000</td>\n",
       "      <td>2.000000</td>\n",
       "    </tr>\n",
       "    <tr>\n",
       "      <th>50%</th>\n",
       "      <td>1.000000</td>\n",
       "      <td>45.000000</td>\n",
       "      <td>4.000000</td>\n",
       "      <td>582.140000</td>\n",
       "      <td>3.000000</td>\n",
       "    </tr>\n",
       "    <tr>\n",
       "      <th>75%</th>\n",
       "      <td>1.000000</td>\n",
       "      <td>56.000000</td>\n",
       "      <td>6.000000</td>\n",
       "      <td>1233.400000</td>\n",
       "      <td>4.000000</td>\n",
       "    </tr>\n",
       "    <tr>\n",
       "      <th>max</th>\n",
       "      <td>1.000000</td>\n",
       "      <td>85.000000</td>\n",
       "      <td>8.000000</td>\n",
       "      <td>3000.000000</td>\n",
       "      <td>4.000000</td>\n",
       "    </tr>\n",
       "  </tbody>\n",
       "</table>\n",
       "</div>"
      ],
      "text/plain": [
       "           in-store           age         items        amount        region\n",
       "count  79979.000000  79979.000000  79979.000000  79979.000000  79979.000000\n",
       "mean       0.500006     45.758512      4.505133    835.825727      2.674915\n",
       "std        0.500003     15.715158      2.061250    721.263650      1.126642\n",
       "min        0.000000     18.000000      1.000000      5.004700      1.000000\n",
       "25%        0.000000     33.000000      3.000000    285.120000      2.000000\n",
       "50%        1.000000     45.000000      4.000000    582.140000      3.000000\n",
       "75%        1.000000     56.000000      6.000000   1233.400000      4.000000\n",
       "max        1.000000     85.000000      8.000000   3000.000000      4.000000"
      ]
     },
     "execution_count": 104,
     "metadata": {},
     "output_type": "execute_result"
    }
   ],
   "source": [
    "data.describe()"
   ]
  },
  {
   "cell_type": "markdown",
   "metadata": {},
   "source": [
    "### Visualizations"
   ]
  },
  {
   "cell_type": "code",
   "execution_count": 105,
   "metadata": {},
   "outputs": [
    {
     "name": "stdout",
     "output_type": "stream",
     "text": [
      "Index(['in-store', 'age', 'items', 'amount', 'region', 'Amount($)', 'Age'], dtype='object')\n"
     ]
    }
   ],
   "source": [
    "header = data.dtypes.index\n",
    "print(header)"
   ]
  },
  {
   "cell_type": "markdown",
   "metadata": {},
   "source": [
    "#### Histogram"
   ]
  },
  {
   "cell_type": "code",
   "execution_count": 106,
   "metadata": {},
   "outputs": [
    {
     "data": {
      "image/png": "[encoded data removed]",
      "text/plain": [
       "<Figure size 432x288 with 1 Axes>"
      ]
     },
     "metadata": {
      "needs_background": "light"
     },
     "output_type": "display_data"
    }
   ],
   "source": [
    "plt.hist(data['region'])\n",
    "\n",
    "plt.title('Region',fontsize=30)\n",
    "plt.xlabel('Region')\n",
    "plt.ylabel('Count')\n",
    "\n",
    "\n",
    "\n",
    "plt.xticks(fontsize = 10) \n",
    "plt.yticks(fontsize = 10) \n",
    "\n",
    "plt.show()"
   ]
  },
  {
   "cell_type": "code",
   "execution_count": 107,
   "metadata": {},
   "outputs": [
    {
     "data": {
      "image/png": "[encoded data removed]",
      "text/plain": [
       "<Figure size 432x288 with 1 Axes>"
      ]
     },
     "metadata": {
      "needs_background": "light"
     },
     "output_type": "display_data"
    }
   ],
   "source": [
    "# 1 = In-Store 0 = Online Purchases\n",
    "plt.hist(data['in-store'])\n",
    "\n",
    "                    \n",
    "plt.title('In-Store/Online',fontsize=30)\n",
    "plt.xlabel('Online or In-Store')\n",
    "plt.ylabel('Count')\n",
    "\n",
    "\n",
    "\n",
    "plt.xticks(fontsize = 10) \n",
    "plt.yticks(fontsize = 10) \n",
    "\n",
    "plt.show()"
   ]
  },
  {
   "cell_type": "markdown",
   "metadata": {},
   "source": [
    "#### Line Plot"
   ]
  },
  {
   "cell_type": "code",
   "execution_count": 108,
   "metadata": {},
   "outputs": [
    {
     "data": {
      "image/png": "[encoded data removed]",
      "text/plain": [
       "<Figure size 432x288 with 1 Axes>"
      ]
     },
     "metadata": {
      "needs_background": "light"
     },
     "output_type": "display_data"
    }
   ],
   "source": [
    "t = np.arange(0.0, 2.0, 0.01)\n",
    "s = 1 + np.sin(2 * np.pi * t)\n",
    "\n",
    "fig, ax = plt.subplots()\n",
    "ax.plot(t, s)\n",
    "ax.set_title('Simple plot')\n",
    "plt.show()"
   ]
  },
  {
   "cell_type": "markdown",
   "metadata": {},
   "source": [
    "#### Scatter Plot"
   ]
  },
  {
   "cell_type": "code",
   "execution_count": 109,
   "metadata": {},
   "outputs": [
    {
     "data": {
      "image/png": "[encoded data removed]",
      "text/plain": [
       "<Figure size 432x288 with 1 Axes>"
      ]
     },
     "metadata": {
      "needs_background": "light"
     },
     "output_type": "display_data"
    }
   ],
   "source": [
    "data_sample = data.sample(8000)\n",
    "x = data_sample[\"region\"]\n",
    "y = data_sample['amount']\n",
    "plt.scatter(x,y, marker='o')\n",
    "plt.title(\"Scatter Plot - Region\")\n",
    "plt.xlabel(\"Region\")\n",
    "plt.ylabel(\"Amount\")\n",
    "plt.show()"
   ]
  },
  {
   "cell_type": "code",
   "execution_count": 110,
   "metadata": {},
   "outputs": [
    {
     "data": {
      "image/png": "[encoded data removed]",
      "text/plain": [
       "<Figure size 432x288 with 1 Axes>"
      ]
     },
     "metadata": {
      "needs_background": "light"
     },
     "output_type": "display_data"
    }
   ],
   "source": [
    "# 1 = In-Store 0 = Online Purchases\n",
    "data_sample = data.sample(8000)\n",
    "x = data_sample[\"in-store\"]\n",
    "y = data_sample['amount']\n",
    "plt.scatter(x,y, marker='o')\n",
    "plt.title(\"Scatter Plot - In-store/Online\")\n",
    "plt.xlabel(\"In-store or Online\")\n",
    "plt.ylabel(\"Amount\")\n",
    "plt.show()"
   ]
  },
  {
   "cell_type": "code",
   "execution_count": 111,
   "metadata": {},
   "outputs": [
    {
     "data": {
      "image/png": "[encoded data removed]",
      "text/plain": [
       "<Figure size 432x288 with 1 Axes>"
      ]
     },
     "metadata": {
      "needs_background": "light"
     },
     "output_type": "display_data"
    }
   ],
   "source": [
    "data_sample = data.sample(8000)\n",
    "x = data_sample[\"items\"]\n",
    "y = data_sample['amount']\n",
    "plt.scatter(x,y, marker='o')\n",
    "plt.title(\"Scatter Plot - Items\")\n",
    "plt.xlabel(\"Items\")\n",
    "plt.ylabel(\"Amount\")\n",
    "plt.show()"
   ]
  },
  {
   "cell_type": "code",
   "execution_count": 112,
   "metadata": {},
   "outputs": [
    {
     "data": {
      "image/png": "[encoded data removed]",
      "text/plain": [
       "<Figure size 432x288 with 1 Axes>"
      ]
     },
     "metadata": {
      "needs_background": "light"
     },
     "output_type": "display_data"
    }
   ],
   "source": [
    "data_sample = data.sample(8000)\n",
    "x = data_sample['age']\n",
    "y = data_sample['amount']\n",
    "plt.scatter(x,y, marker='o')\n",
    "plt.title(\"Scatter Plot - Age\")\n",
    "plt.ylabel('Amount')\n",
    "plt.xlabel('Age')\n",
    "plt.show()\n"
   ]
  },
  {
   "cell_type": "markdown",
   "metadata": {},
   "source": [
    "#### Box Plot"
   ]
  },
  {
   "cell_type": "code",
   "execution_count": 113,
   "metadata": {},
   "outputs": [
    {
     "name": "stdout",
     "output_type": "stream",
     "text": [
      "Index(['in-store', 'age', 'items', 'amount', 'region', 'Amount($)', 'Age'], dtype='object')\n"
     ]
    },
    {
     "data": {
      "image/png": "[encoded data removed]",
      "text/plain": [
       "<Figure size 432x288 with 1 Axes>"
      ]
     },
     "metadata": {
      "needs_background": "light"
     },
     "output_type": "display_data"
    }
   ],
   "source": [
    "header = data.dtypes.index\n",
    "print(header)\n",
    "\n",
    "A = data['amount']\n",
    "plt.boxplot(A,0,'gD')\n",
    "plt.show()"
   ]
  },
  {
   "cell_type": "code",
   "execution_count": 114,
   "metadata": {},
   "outputs": [
    {
     "name": "stdout",
     "output_type": "stream",
     "text": [
      "Index(['in-store', 'age', 'items', 'amount', 'region', 'Amount($)', 'Age'], dtype='object')\n"
     ]
    },
    {
     "data": {
      "image/png": "[encoded data removed]",
      "text/plain": [
       "<Figure size 432x288 with 1 Axes>"
      ]
     },
     "metadata": {
      "needs_background": "light"
     },
     "output_type": "display_data"
    }
   ],
   "source": [
    "header = data.dtypes.index\n",
    "print(header)\n",
    "\n",
    "A = data['age']\n",
    "plt.boxplot(A,0,'gD')\n",
    "plt.show()"
   ]
  },
  {
   "cell_type": "code",
   "execution_count": 115,
   "metadata": {},
   "outputs": [
    {
     "name": "stdout",
     "output_type": "stream",
     "text": [
      "Index(['in-store', 'age', 'items', 'amount', 'region', 'Amount($)', 'Age'], dtype='object')\n"
     ]
    },
    {
     "data": {
      "image/png": "[encoded data removed]",
      "text/plain": [
       "<Figure size 432x288 with 1 Axes>"
      ]
     },
     "metadata": {
      "needs_background": "light"
     },
     "output_type": "display_data"
    }
   ],
   "source": [
    "header = data.dtypes.index\n",
    "print(header)\n",
    "\n",
    "A = data['in-store']\n",
    "plt.boxplot(A,0,'gD')\n",
    "plt.show()"
   ]
  },
  {
   "cell_type": "code",
   "execution_count": 116,
   "metadata": {},
   "outputs": [
    {
     "name": "stdout",
     "output_type": "stream",
     "text": [
      "Index(['in-store', 'age', 'items', 'amount', 'region', 'Amount($)', 'Age'], dtype='object')\n"
     ]
    },
    {
     "data": {
      "image/png": "[encoded data removed]",
      "text/plain": [
       "<Figure size 432x288 with 1 Axes>"
      ]
     },
     "metadata": {
      "needs_background": "light"
     },
     "output_type": "display_data"
    }
   ],
   "source": [
    "header = data.dtypes.index\n",
    "print(header)\n",
    "\n",
    "A = data['region']\n",
    "plt.boxplot(A,0,'gD')\n",
    "plt.show()"
   ]
  },
  {
   "cell_type": "code",
   "execution_count": 117,
   "metadata": {},
   "outputs": [
    {
     "name": "stdout",
     "output_type": "stream",
     "text": [
      "Index(['in-store', 'age', 'items', 'amount', 'region', 'Amount($)', 'Age'], dtype='object')\n"
     ]
    },
    {
     "data": {
      "image/png": "[encoded data removed]",
      "text/plain": [
       "<Figure size 432x288 with 1 Axes>"
      ]
     },
     "metadata": {
      "needs_background": "light"
     },
     "output_type": "display_data"
    }
   ],
   "source": [
    "header = data.dtypes.index\n",
    "print(header)\n",
    "\n",
    "A = data['items']\n",
    "plt.boxplot(A,0,'gD')\n",
    "plt.show()"
   ]
  },
  {
   "cell_type": "markdown",
   "metadata": {},
   "source": [
    "#### Stacked Column"
   ]
  },
  {
   "cell_type": "code",
   "execution_count": 118,
   "metadata": {},
   "outputs": [
    {
     "data": {
      "image/png": "[encoded data removed]",
      "text/plain": [
       "<Figure size 432x288 with 1 Axes>"
      ]
     },
     "metadata": {
      "needs_background": "light"
     },
     "output_type": "display_data"
    }
   ],
   "source": [
    "data.groupby(['region','Amount($)']).size().unstack().plot(kind='bar',stacked=True)\n",
    "plt.title('Amount($) Spent Per Region', fontsize = 20)\n",
    "plt.xlabel('Region', fontsize = 15)\n",
    "plt.ylabel('Amount($)', fontsize = 15)\n",
    "x1 = [0,1,2,3]\n",
    "squad = ['North','South','East','West']\n",
    "plt.xticks(x1, squad, rotation=0)\n",
    "\n",
    "plt.show()"
   ]
  },
  {
   "cell_type": "code",
   "execution_count": 119,
   "metadata": {},
   "outputs": [
    {
     "data": {
      "image/png": "[encoded data removed]",
      "text/plain": [
       "<Figure size 432x288 with 1 Axes>"
      ]
     },
     "metadata": {
      "needs_background": "light"
     },
     "output_type": "display_data"
    }
   ],
   "source": [
    "data.groupby(['Age','Amount($)']).size().unstack().plot(kind='bar',stacked=True)\n",
    "plt.title('Amount($) Spent Per Age', fontsize = 20)\n",
    "plt.xlabel('Age', fontsize = 15)\n",
    "plt.ylabel('Amount($)', fontsize = 15)\n",
    "x1 = [0,1,2]\n",
    "squad = ['<30', '30-59', '60-85']\n",
    "plt.xticks(x1, squad, rotation=0)\n",
    "\n",
    "plt.show()"
   ]
  },
  {
   "cell_type": "code",
   "execution_count": 120,
   "metadata": {},
   "outputs": [
    {
     "data": {
      "image/png": "[encoded data removed]",
      "text/plain": [
       "<Figure size 432x288 with 1 Axes>"
      ]
     },
     "metadata": {
      "needs_background": "light"
     },
     "output_type": "display_data"
    }
   ],
   "source": [
    "data.groupby(['region','Age']).size().unstack().plot(kind='bar',stacked=True)\n",
    "plt.title('Age Per Region', fontsize = 20)\n",
    "plt.xlabel('Region', fontsize = 15)\n",
    "plt.ylabel('Amount ($)', fontsize = 15)\n",
    "x1 = [0,1,2,3]\n",
    "squad = ['North','South','East','West']\n",
    "plt.xticks(x1, squad, rotation=0)\n",
    "\n",
    "plt.show()"
   ]
  },
  {
   "cell_type": "code",
   "execution_count": 121,
   "metadata": {},
   "outputs": [
    {
     "data": {
      "image/png": "[encoded data removed]",
      "text/plain": [
       "<Figure size 432x288 with 1 Axes>"
      ]
     },
     "metadata": {
      "needs_background": "light"
     },
     "output_type": "display_data"
    }
   ],
   "source": [
    "data.groupby(['in-store','Age']).size().unstack().plot(kind='bar',stacked=True)\n",
    "plt.title('Age Per Location of Transaction', fontsize = 20)\n",
    "plt.xlabel('Online/In-store', fontsize = 15)\n",
    "plt.ylabel('Amount ($)', fontsize = 15)\n",
    "x1 = [0,1]\n",
    "squad = ['Online','In-store']\n",
    "plt.xticks(x1, squad, rotation=0)\n",
    "\n",
    "plt.show()"
   ]
  },
  {
   "cell_type": "markdown",
   "metadata": {},
   "source": [
    "#### Bar Chart"
   ]
  },
  {
   "cell_type": "code",
   "execution_count": 38,
   "metadata": {},
   "outputs": [
    {
     "data": {
      "text/plain": [
       "region\n",
       "1    15997\n",
       "2    19994\n",
       "3    18000\n",
       "4    25988\n",
       "Name: amount, dtype: int64"
      ]
     },
     "execution_count": 38,
     "metadata": {},
     "output_type": "execute_result"
    }
   ],
   "source": [
    "# Number/count of transactions per region\n",
    "data.groupby('region')['amount'].count()"
   ]
  },
  {
   "cell_type": "code",
   "execution_count": 39,
   "metadata": {},
   "outputs": [
    {
     "name": "stderr",
     "output_type": "stream",
     "text": [
      "C:\\anaconda\\lib\\site-packages\\seaborn\\categorical.py:3669: UserWarning: The `factorplot` function has been renamed to `catplot`. The original name will be removed in a future release. Please update your code. Note that the default `kind` in `factorplot` (`'point'`) has changed `'strip'` in `catplot`.\n",
      "  warnings.warn(msg)\n"
     ]
    },
    {
     "data": {
      "text/plain": [
       "<seaborn.axisgrid.FacetGrid at 0x2a1f1016208>"
      ]
     },
     "execution_count": 39,
     "metadata": {},
     "output_type": "execute_result"
    },
    {
     "data": {
      "image/png": "[encoded data removed]",
      "text/plain": [
       "<Figure size 540x360 with 1 Axes>"
      ]
     },
     "metadata": {
      "needs_background": "light"
     },
     "output_type": "display_data"
    }
   ],
   "source": [
    "fg = sb.factorplot('region', data=data, kind='count', aspect=1.5)\n",
    "fg.set_xlabels('Region')"
   ]
  },
  {
   "cell_type": "code",
   "execution_count": 40,
   "metadata": {},
   "outputs": [
    {
     "data": {
      "text/plain": [
       "items\n",
       "1     5699\n",
       "2    11284\n",
       "3    11486\n",
       "4    11594\n",
       "5    11233\n",
       "6    11519\n",
       "7    11376\n",
       "8     5788\n",
       "Name: amount, dtype: int64"
      ]
     },
     "execution_count": 40,
     "metadata": {},
     "output_type": "execute_result"
    }
   ],
   "source": [
    "# Number/count of transactions per item\n",
    "data.groupby('items')['amount'].count()"
   ]
  },
  {
   "cell_type": "code",
   "execution_count": 41,
   "metadata": {},
   "outputs": [
    {
     "data": {
      "text/plain": [
       "Text(-7.325000000000003, 0.5, 'Number of Transactions')"
      ]
     },
     "execution_count": 41,
     "metadata": {},
     "output_type": "execute_result"
    },
    {
     "data": {
      "image/png": "[encoded data removed]",
      "text/plain": [
       "<Figure size 540x360 with 1 Axes>"
      ]
     },
     "metadata": {
      "needs_background": "light"
     },
     "output_type": "display_data"
    }
   ],
   "source": [
    "fg = sb.factorplot('items', data=data, kind='count', aspect=1.5)\n",
    "fg.set_xlabels('Items')\n",
    "\n",
    "plt.title('Number of Items Purchased', fontsize = 20)\n",
    "plt.xlabel('Items', fontsize = 15)\n",
    "plt.ylabel('Number of Transactions', fontsize = 15)"
   ]
  },
  {
   "cell_type": "code",
   "execution_count": 42,
   "metadata": {},
   "outputs": [
    {
     "data": {
      "text/plain": [
       "region\n",
       "1     744.990939\n",
       "2     252.097741\n",
       "3     917.969637\n",
       "4    1283.938357\n",
       "Name: amount, dtype: float64"
      ]
     },
     "execution_count": 42,
     "metadata": {},
     "output_type": "execute_result"
    }
   ],
   "source": [
    "#average of amount per region\n",
    "data.groupby('region')['amount'].mean()"
   ]
  },
  {
   "cell_type": "code",
   "execution_count": 43,
   "metadata": {},
   "outputs": [
    {
     "name": "stdout",
     "output_type": "stream",
     "text": [
      "[0 1 2 3 4]\n"
     ]
    }
   ],
   "source": [
    "x=np.arange(5)\n",
    "print(x)"
   ]
  },
  {
   "cell_type": "code",
   "execution_count": 44,
   "metadata": {},
   "outputs": [
    {
     "data": {
      "image/png": "[encoded data removed]",
      "text/plain": [
       "<Figure size 432x288 with 1 Axes>"
      ]
     },
     "metadata": {
      "needs_background": "light"
     },
     "output_type": "display_data"
    }
   ],
   "source": [
    "ax = sb.barplot(x=data['region'], y=data['amount'])"
   ]
  },
  {
   "cell_type": "code",
   "execution_count": 45,
   "metadata": {},
   "outputs": [
    {
     "data": {
      "text/html": [
       "<div>\n",
       "<style scoped>\n",
       "    .dataframe tbody tr th:only-of-type {\n",
       "        vertical-align: middle;\n",
       "    }\n",
       "\n",
       "    .dataframe tbody tr th {\n",
       "        vertical-align: top;\n",
       "    }\n",
       "\n",
       "    .dataframe thead th {\n",
       "        text-align: right;\n",
       "    }\n",
       "</style>\n",
       "<table border=\"1\" class=\"dataframe\">\n",
       "  <thead>\n",
       "    <tr style=\"text-align: right;\">\n",
       "      <th></th>\n",
       "      <th>region</th>\n",
       "      <th>in-store</th>\n",
       "      <th>age</th>\n",
       "      <th>items</th>\n",
       "      <th>amount</th>\n",
       "    </tr>\n",
       "  </thead>\n",
       "  <tbody>\n",
       "    <tr>\n",
       "      <th>0</th>\n",
       "      <td>1</td>\n",
       "      <td>1.000000</td>\n",
       "      <td>43.704132</td>\n",
       "      <td>4.510283</td>\n",
       "      <td>744.990939</td>\n",
       "    </tr>\n",
       "    <tr>\n",
       "      <th>1</th>\n",
       "      <td>2</td>\n",
       "      <td>0.000000</td>\n",
       "      <td>56.609083</td>\n",
       "      <td>4.512804</td>\n",
       "      <td>252.097741</td>\n",
       "    </tr>\n",
       "    <tr>\n",
       "      <th>2</th>\n",
       "      <td>3</td>\n",
       "      <td>0.611056</td>\n",
       "      <td>45.646944</td>\n",
       "      <td>4.494000</td>\n",
       "      <td>917.969637</td>\n",
       "    </tr>\n",
       "    <tr>\n",
       "      <th>3</th>\n",
       "      <td>4</td>\n",
       "      <td>0.500000</td>\n",
       "      <td>38.752424</td>\n",
       "      <td>4.503771</td>\n",
       "      <td>1283.938357</td>\n",
       "    </tr>\n",
       "  </tbody>\n",
       "</table>\n",
       "</div>"
      ],
      "text/plain": [
       "   region  in-store        age     items       amount\n",
       "0       1  1.000000  43.704132  4.510283   744.990939\n",
       "1       2  0.000000  56.609083  4.512804   252.097741\n",
       "2       3  0.611056  45.646944  4.494000   917.969637\n",
       "3       4  0.500000  38.752424  4.503771  1283.938357"
      ]
     },
     "execution_count": 45,
     "metadata": {},
     "output_type": "execute_result"
    }
   ],
   "source": [
    "groupedvalues = data.groupby('region').mean().reset_index()\n",
    "groupedvalues.head()"
   ]
  },
  {
   "cell_type": "code",
   "execution_count": 46,
   "metadata": {},
   "outputs": [
    {
     "data": {
      "text/plain": [
       "[Text(0, 0, '1 - North'),\n",
       " Text(1, 0, '2 - South'),\n",
       " Text(2, 0, '3 - East'),\n",
       " Text(3, 0, '4 - West')]"
      ]
     },
     "execution_count": 46,
     "metadata": {},
     "output_type": "execute_result"
    },
    {
     "data": {
      "image/png": "[encoded data removed]",
      "text/plain": [
       "<Figure size 432x288 with 1 Axes>"
      ]
     },
     "metadata": {
      "needs_background": "light"
     },
     "output_type": "display_data"
    }
   ],
   "source": [
    "g =sb.barplot(x='region',y='amount',data=groupedvalues)\n",
    "\n",
    "for index, row in groupedvalues.iterrows():\n",
    "    g.text(row.name,row.amount, round(row.amount,2), color='black', ha=\"center\")\n",
    "plt.title('Average Amount Per Region', fontsize = 20)\n",
    "plt.xlabel('Region', fontsize = 15)\n",
    "plt.ylabel('Amount($)', fontsize = 15)\n",
    "g.set_xticklabels(['1 - North','2 - South','3 - East','4 - West'])"
   ]
  },
  {
   "cell_type": "code",
   "execution_count": 47,
   "metadata": {},
   "outputs": [
    {
     "data": {
      "text/plain": [
       "items\n",
       "1    825.401751\n",
       "2    846.956834\n",
       "3    836.594085\n",
       "4    829.619594\n",
       "5    833.973730\n",
       "6    835.332638\n",
       "7    830.026801\n",
       "8    851.268593\n",
       "Name: amount, dtype: float64"
      ]
     },
     "execution_count": 47,
     "metadata": {},
     "output_type": "execute_result"
    }
   ],
   "source": [
    "#average of amount per item\n",
    "data.groupby('items')['amount'].mean()"
   ]
  },
  {
   "cell_type": "code",
   "execution_count": 48,
   "metadata": {},
   "outputs": [
    {
     "data": {
      "image/png": "[encoded data removed]",
      "text/plain": [
       "<Figure size 432x288 with 1 Axes>"
      ]
     },
     "metadata": {
      "needs_background": "light"
     },
     "output_type": "display_data"
    }
   ],
   "source": [
    "ax = sb.barplot(x=data['items'], y=data['amount'])"
   ]
  },
  {
   "cell_type": "code",
   "execution_count": 49,
   "metadata": {},
   "outputs": [
    {
     "data": {
      "text/html": [
       "<div>\n",
       "<style scoped>\n",
       "    .dataframe tbody tr th:only-of-type {\n",
       "        vertical-align: middle;\n",
       "    }\n",
       "\n",
       "    .dataframe tbody tr th {\n",
       "        vertical-align: top;\n",
       "    }\n",
       "\n",
       "    .dataframe thead th {\n",
       "        text-align: right;\n",
       "    }\n",
       "</style>\n",
       "<table border=\"1\" class=\"dataframe\">\n",
       "  <thead>\n",
       "    <tr style=\"text-align: right;\">\n",
       "      <th></th>\n",
       "      <th>items</th>\n",
       "      <th>in-store</th>\n",
       "      <th>age</th>\n",
       "      <th>amount</th>\n",
       "      <th>region</th>\n",
       "    </tr>\n",
       "  </thead>\n",
       "  <tbody>\n",
       "    <tr>\n",
       "      <th>0</th>\n",
       "      <td>1</td>\n",
       "      <td>0.501667</td>\n",
       "      <td>45.968416</td>\n",
       "      <td>825.401751</td>\n",
       "      <td>2.690647</td>\n",
       "    </tr>\n",
       "    <tr>\n",
       "      <th>1</th>\n",
       "      <td>2</td>\n",
       "      <td>0.496721</td>\n",
       "      <td>45.724832</td>\n",
       "      <td>846.956834</td>\n",
       "      <td>2.679989</td>\n",
       "    </tr>\n",
       "    <tr>\n",
       "      <th>2</th>\n",
       "      <td>3</td>\n",
       "      <td>0.504876</td>\n",
       "      <td>45.578530</td>\n",
       "      <td>836.594085</td>\n",
       "      <td>2.681090</td>\n",
       "    </tr>\n",
       "    <tr>\n",
       "      <th>3</th>\n",
       "      <td>4</td>\n",
       "      <td>0.501984</td>\n",
       "      <td>45.711747</td>\n",
       "      <td>829.619594</td>\n",
       "      <td>2.652148</td>\n",
       "    </tr>\n",
       "    <tr>\n",
       "      <th>4</th>\n",
       "      <td>5</td>\n",
       "      <td>0.504585</td>\n",
       "      <td>45.768717</td>\n",
       "      <td>833.973730</td>\n",
       "      <td>2.679160</td>\n",
       "    </tr>\n",
       "  </tbody>\n",
       "</table>\n",
       "</div>"
      ],
      "text/plain": [
       "   items  in-store        age      amount    region\n",
       "0      1  0.501667  45.968416  825.401751  2.690647\n",
       "1      2  0.496721  45.724832  846.956834  2.679989\n",
       "2      3  0.504876  45.578530  836.594085  2.681090\n",
       "3      4  0.501984  45.711747  829.619594  2.652148\n",
       "4      5  0.504585  45.768717  833.973730  2.679160"
      ]
     },
     "execution_count": 49,
     "metadata": {},
     "output_type": "execute_result"
    }
   ],
   "source": [
    "groupedvalues = data.groupby('items').mean().reset_index()\n",
    "groupedvalues.head()"
   ]
  },
  {
   "cell_type": "code",
   "execution_count": 50,
   "metadata": {},
   "outputs": [
    {
     "data": {
      "text/plain": [
       "Text(0, 0.5, 'Amount')"
      ]
     },
     "execution_count": 50,
     "metadata": {},
     "output_type": "execute_result"
    },
    {
     "data": {
      "image/png": "[encoded data removed]",
      "text/plain": [
       "<Figure size 432x288 with 1 Axes>"
      ]
     },
     "metadata": {
      "needs_background": "light"
     },
     "output_type": "display_data"
    }
   ],
   "source": [
    "g =sb.barplot(x='items',y='amount',data=groupedvalues)\n",
    "\n",
    "for index, row in groupedvalues.iterrows():\n",
    "    g.text(row.name,row.amount, round(row.amount,2), color='black', ha=\"center\")\n",
    "plt.title('Average Amount Per Items', fontsize = 20)\n",
    "plt.xlabel('Items', fontsize = 15)\n",
    "plt.ylabel('Amount', fontsize = 15)"
   ]
  },
  {
   "cell_type": "code",
   "execution_count": 51,
   "metadata": {},
   "outputs": [
    {
     "data": {
      "text/plain": [
       "in-store\n",
       "0    39989\n",
       "1    39990\n",
       "Name: amount, dtype: int64"
      ]
     },
     "execution_count": 51,
     "metadata": {},
     "output_type": "execute_result"
    }
   ],
   "source": [
    "# Number/count of transactions per purchase location\n",
    "data.groupby('in-store')['amount'].count()"
   ]
  },
  {
   "cell_type": "code",
   "execution_count": 52,
   "metadata": {},
   "outputs": [
    {
     "name": "stderr",
     "output_type": "stream",
     "text": [
      "C:\\anaconda\\lib\\site-packages\\seaborn\\categorical.py:3669: UserWarning: The `factorplot` function has been renamed to `catplot`. The original name will be removed in a future release. Please update your code. Note that the default `kind` in `factorplot` (`'point'`) has changed `'strip'` in `catplot`.\n",
      "  warnings.warn(msg)\n"
     ]
    },
    {
     "data": {
      "text/plain": [
       "Text(-7.325000000000003, 0.5, 'Number of Transactions')"
      ]
     },
     "execution_count": 52,
     "metadata": {},
     "output_type": "execute_result"
    },
    {
     "data": {
      "image/png": "[encoded data removed]",
      "text/plain": [
       "<Figure size 540x360 with 1 Axes>"
      ]
     },
     "metadata": {
      "needs_background": "light"
     },
     "output_type": "display_data"
    }
   ],
   "source": [
    "# 1 = In-Store 0 = Online Purchases\n",
    "fg = sb.factorplot('in-store', data=data, kind='count', aspect=1.5)\n",
    "fg.set_xlabels('in-store')\n",
    "\n",
    "plt.title('In-Store/Online', fontsize = 20)\n",
    "plt.xlabel('In-Store or Online', fontsize = 15)\n",
    "plt.ylabel('Number of Transactions', fontsize = 15)\n"
   ]
  },
  {
   "cell_type": "code",
   "execution_count": 53,
   "metadata": {},
   "outputs": [
    {
     "data": {
      "text/html": [
       "<div>\n",
       "<style scoped>\n",
       "    .dataframe tbody tr th:only-of-type {\n",
       "        vertical-align: middle;\n",
       "    }\n",
       "\n",
       "    .dataframe tbody tr th {\n",
       "        vertical-align: top;\n",
       "    }\n",
       "\n",
       "    .dataframe thead th {\n",
       "        text-align: right;\n",
       "    }\n",
       "</style>\n",
       "<table border=\"1\" class=\"dataframe\">\n",
       "  <thead>\n",
       "    <tr style=\"text-align: right;\">\n",
       "      <th></th>\n",
       "      <th>in-store</th>\n",
       "      <th>age</th>\n",
       "      <th>items</th>\n",
       "      <th>amount</th>\n",
       "      <th>region</th>\n",
       "    </tr>\n",
       "  </thead>\n",
       "  <tbody>\n",
       "    <tr>\n",
       "      <th>0</th>\n",
       "      <td>0</td>\n",
       "      <td>48.558654</td>\n",
       "      <td>4.513166</td>\n",
       "      <td>897.546576</td>\n",
       "      <td>2.824952</td>\n",
       "    </tr>\n",
       "    <tr>\n",
       "      <th>1</th>\n",
       "      <td>1</td>\n",
       "      <td>42.958440</td>\n",
       "      <td>4.497099</td>\n",
       "      <td>774.106421</td>\n",
       "      <td>2.524881</td>\n",
       "    </tr>\n",
       "  </tbody>\n",
       "</table>\n",
       "</div>"
      ],
      "text/plain": [
       "   in-store        age     items      amount    region\n",
       "0         0  48.558654  4.513166  897.546576  2.824952\n",
       "1         1  42.958440  4.497099  774.106421  2.524881"
      ]
     },
     "execution_count": 53,
     "metadata": {},
     "output_type": "execute_result"
    }
   ],
   "source": [
    "# 1 = In-Store 0 = Online Purchases\n",
    "groupedvalues = data.groupby('in-store').mean().reset_index()\n",
    "groupedvalues.head()"
   ]
  },
  {
   "cell_type": "code",
   "execution_count": 54,
   "metadata": {},
   "outputs": [
    {
     "data": {
      "text/plain": [
       "[Text(0, 0, '0 - Online'), Text(1, 0, '1 - In-store')]"
      ]
     },
     "execution_count": 54,
     "metadata": {},
     "output_type": "execute_result"
    },
    {
     "data": {
      "image/png": "[encoded data removed]",
      "text/plain": [
       "<Figure size 432x288 with 1 Axes>"
      ]
     },
     "metadata": {
      "needs_background": "light"
     },
     "output_type": "display_data"
    }
   ],
   "source": [
    "# 1 = In-Store 0 = Online Purchases\n",
    "#Mean per transaction for in-store or Online\n",
    "##Need to find out if I can sum total In-store and Online purchases\n",
    "g =sb.barplot(x='in-store',y='amount',data=groupedvalues)\n",
    "\n",
    "for index, row in groupedvalues.iterrows():\n",
    "    g.text(row.name,row.amount, round(row.amount,2), color='black', ha=\"center\")\n",
    "plt.title('Average Amount of Location Per Transaction', fontsize = 20)\n",
    "plt.xlabel('In-store or Online', fontsize = 15)\n",
    "plt.ylabel('Amount($)', fontsize = 15)\n",
    "g.set_xticklabels([ '0 - Online','1 - In-store'])"
   ]
  },
  {
   "cell_type": "markdown",
   "metadata": {},
   "source": [
    "### Feature Selection"
   ]
  },
  {
   "cell_type": "markdown",
   "metadata": {},
   "source": [
    "#### Correlation"
   ]
  },
  {
   "cell_type": "code",
   "execution_count": 55,
   "metadata": {},
   "outputs": [
    {
     "name": "stdout",
     "output_type": "stream",
     "text": [
      "          in-store       age     items    amount    region\n",
      "in-store  1.000000 -0.178180 -0.003897 -0.085573 -0.133171\n",
      "age      -0.178180  1.000000  0.000657 -0.282033 -0.235370\n",
      "items    -0.003897  0.000657  1.000000  0.000384 -0.001904\n",
      "amount   -0.085573 -0.282033  0.000384  1.000000  0.403486\n",
      "region   -0.133171 -0.235370 -0.001904  0.403486  1.000000\n"
     ]
    }
   ],
   "source": [
    "corr_mat = data.corr()\n",
    "print(corr_mat)"
   ]
  },
  {
   "cell_type": "code",
   "execution_count": 56,
   "metadata": {
    "scrolled": false
   },
   "outputs": [
    {
     "data": {
      "image/png": "[encoded data removed]",
      "text/plain": [
       "<Figure size 720x720 with 2 Axes>"
      ]
     },
     "metadata": {
      "needs_background": "light"
     },
     "output_type": "display_data"
    }
   ],
   "source": [
    "fig, ax = plt.subplots(figsize=(10,10))\n",
    "sb.heatmap(corr_mat, vmax=1.0, center=0, fmt='.2f',\n",
    "square=True, linewidth=.5, annot=True, cbar_kws={\"shrink\": .70})\n",
    "plt.show();"
   ]
  },
  {
   "cell_type": "markdown",
   "metadata": {},
   "source": [
    "#### Covariance"
   ]
  },
  {
   "cell_type": "code",
   "execution_count": 57,
   "metadata": {},
   "outputs": [
    {
     "name": "stdout",
     "output_type": "stream",
     "text": [
      "           in-store          age     items         amount      region\n",
      "in-store   0.250003    -1.400071 -0.004017     -30.860425   -0.075019\n",
      "age       -1.400071   246.966189  0.021270   -3196.782841   -4.167305\n",
      "items     -0.004017     0.021270  4.248751       0.570791   -0.004421\n",
      "amount   -30.860425 -3196.782841  0.570791  520221.252295  327.874873\n",
      "region    -0.075019    -4.167305 -0.004421     327.874873    1.269321\n"
     ]
    }
   ],
   "source": [
    "cov_mat = data.cov()\n",
    "print(cov_mat)"
   ]
  },
  {
   "cell_type": "code",
   "execution_count": 58,
   "metadata": {
    "scrolled": false
   },
   "outputs": [
    {
     "data": {
      "image/png": "[encoded data removed]",
      "text/plain": [
       "<Figure size 720x720 with 2 Axes>"
      ]
     },
     "metadata": {
      "needs_background": "light"
     },
     "output_type": "display_data"
    }
   ],
   "source": [
    "fig, ax = plt.subplots(figsize=(10,10))\n",
    "sb.heatmap(cov_mat, vmax=1.0, center=0, fmt='.2f',\n",
    "square=True, linewidth=.5, annot=True, cbar_kws={\"shrink\": .70})\n",
    "plt.show();"
   ]
  },
  {
   "cell_type": "markdown",
   "metadata": {},
   "source": [
    "### Train/Test Sets"
   ]
  },
  {
   "cell_type": "markdown",
   "metadata": {},
   "source": [
    "#### Set Random Seed"
   ]
  },
  {
   "cell_type": "code",
   "execution_count": 59,
   "metadata": {},
   "outputs": [],
   "source": [
    "seed = 123"
   ]
  },
  {
   "cell_type": "markdown",
   "metadata": {},
   "source": [
    "#### Split datasets into X (Independent Variable) and y (Dependent Variable)"
   ]
  },
  {
   "cell_type": "code",
   "execution_count": 60,
   "metadata": {},
   "outputs": [
    {
     "data": {
      "text/plain": [
       "Index(['in-store', 'age', 'items', 'amount', 'region', 'Amount($)', 'Age'], dtype='object')"
      ]
     },
     "execution_count": 60,
     "metadata": {},
     "output_type": "execute_result"
    }
   ],
   "source": [
    "data.columns"
   ]
  },
  {
   "cell_type": "code",
   "execution_count": 61,
   "metadata": {},
   "outputs": [],
   "source": [
    "## 3b): set REGION as dependent variable\n",
    "##removing \"Region\" from features/independent variables\n",
    "variable_name = data.iloc[[0, 1, 2, 3]]"
   ]
  },
  {
   "cell_type": "code",
   "execution_count": 63,
   "metadata": {},
   "outputs": [
    {
     "name": "stdout",
     "output_type": "stream",
     "text": [
      "Summary of feature sample\n"
     ]
    },
    {
     "data": {
      "text/html": [
       "<div>\n",
       "<style scoped>\n",
       "    .dataframe tbody tr th:only-of-type {\n",
       "        vertical-align: middle;\n",
       "    }\n",
       "\n",
       "    .dataframe tbody tr th {\n",
       "        vertical-align: top;\n",
       "    }\n",
       "\n",
       "    .dataframe thead th {\n",
       "        text-align: right;\n",
       "    }\n",
       "</style>\n",
       "<table border=\"1\" class=\"dataframe\">\n",
       "  <thead>\n",
       "    <tr style=\"text-align: right;\">\n",
       "      <th></th>\n",
       "      <th>in-store</th>\n",
       "      <th>age</th>\n",
       "      <th>items</th>\n",
       "      <th>amount</th>\n",
       "    </tr>\n",
       "  </thead>\n",
       "  <tbody>\n",
       "    <tr>\n",
       "      <th>0</th>\n",
       "      <td>0</td>\n",
       "      <td>37</td>\n",
       "      <td>4</td>\n",
       "      <td>281.03</td>\n",
       "    </tr>\n",
       "    <tr>\n",
       "      <th>1</th>\n",
       "      <td>0</td>\n",
       "      <td>35</td>\n",
       "      <td>2</td>\n",
       "      <td>219.51</td>\n",
       "    </tr>\n",
       "    <tr>\n",
       "      <th>2</th>\n",
       "      <td>1</td>\n",
       "      <td>45</td>\n",
       "      <td>3</td>\n",
       "      <td>1525.70</td>\n",
       "    </tr>\n",
       "    <tr>\n",
       "      <th>3</th>\n",
       "      <td>1</td>\n",
       "      <td>46</td>\n",
       "      <td>3</td>\n",
       "      <td>715.25</td>\n",
       "    </tr>\n",
       "    <tr>\n",
       "      <th>4</th>\n",
       "      <td>1</td>\n",
       "      <td>33</td>\n",
       "      <td>4</td>\n",
       "      <td>1937.50</td>\n",
       "    </tr>\n",
       "  </tbody>\n",
       "</table>\n",
       "</div>"
      ],
      "text/plain": [
       "   in-store  age  items   amount\n",
       "0         0   37      4   281.03\n",
       "1         0   35      2   219.51\n",
       "2         1   45      3  1525.70\n",
       "3         1   46      3   715.25\n",
       "4         1   33      4  1937.50"
      ]
     },
     "execution_count": 63,
     "metadata": {},
     "output_type": "execute_result"
    }
   ],
   "source": [
    "# 3b): features\n",
    "X_data = data.iloc[:,[0,1,2,3]]\n",
    "print('Summary of feature sample')\n",
    "X_data.head()"
   ]
  },
  {
   "cell_type": "code",
   "execution_count": 64,
   "metadata": {},
   "outputs": [],
   "source": [
    "# 3b): Setting dependent target variable (REGION)\n",
    "y_data = data['region']"
   ]
  },
  {
   "cell_type": "code",
   "execution_count": 65,
   "metadata": {},
   "outputs": [
    {
     "data": {
      "text/html": [
       "<div>\n",
       "<style scoped>\n",
       "    .dataframe tbody tr th:only-of-type {\n",
       "        vertical-align: middle;\n",
       "    }\n",
       "\n",
       "    .dataframe tbody tr th {\n",
       "        vertical-align: top;\n",
       "    }\n",
       "\n",
       "    .dataframe thead th {\n",
       "        text-align: right;\n",
       "    }\n",
       "</style>\n",
       "<table border=\"1\" class=\"dataframe\">\n",
       "  <thead>\n",
       "    <tr style=\"text-align: right;\">\n",
       "      <th></th>\n",
       "      <th>in-store</th>\n",
       "      <th>age</th>\n",
       "      <th>items</th>\n",
       "      <th>amount</th>\n",
       "      <th>region</th>\n",
       "      <th>Amount($)</th>\n",
       "      <th>Age</th>\n",
       "    </tr>\n",
       "  </thead>\n",
       "  <tbody>\n",
       "    <tr>\n",
       "      <th>0</th>\n",
       "      <td>0</td>\n",
       "      <td>30-59</td>\n",
       "      <td>4</td>\n",
       "      <td>281.03</td>\n",
       "      <td>2</td>\n",
       "      <td>Below 1,000</td>\n",
       "      <td>30-59</td>\n",
       "    </tr>\n",
       "    <tr>\n",
       "      <th>1</th>\n",
       "      <td>0</td>\n",
       "      <td>30-59</td>\n",
       "      <td>2</td>\n",
       "      <td>219.51</td>\n",
       "      <td>2</td>\n",
       "      <td>Below 1,000</td>\n",
       "      <td>30-59</td>\n",
       "    </tr>\n",
       "    <tr>\n",
       "      <th>2</th>\n",
       "      <td>1</td>\n",
       "      <td>30-59</td>\n",
       "      <td>3</td>\n",
       "      <td>1525.70</td>\n",
       "      <td>4</td>\n",
       "      <td>1,000 to 2,000</td>\n",
       "      <td>30-59</td>\n",
       "    </tr>\n",
       "    <tr>\n",
       "      <th>3</th>\n",
       "      <td>1</td>\n",
       "      <td>30-59</td>\n",
       "      <td>3</td>\n",
       "      <td>715.25</td>\n",
       "      <td>3</td>\n",
       "      <td>Below 1,000</td>\n",
       "      <td>30-59</td>\n",
       "    </tr>\n",
       "    <tr>\n",
       "      <th>4</th>\n",
       "      <td>1</td>\n",
       "      <td>30-59</td>\n",
       "      <td>4</td>\n",
       "      <td>1937.50</td>\n",
       "      <td>1</td>\n",
       "      <td>1,000 to 2,000</td>\n",
       "      <td>30-59</td>\n",
       "    </tr>\n",
       "  </tbody>\n",
       "</table>\n",
       "</div>"
      ],
      "text/plain": [
       "   in-store    age  items   amount  region       Amount($)    Age\n",
       "0         0  30-59      4   281.03       2     Below 1,000  30-59\n",
       "1         0  30-59      2   219.51       2     Below 1,000  30-59\n",
       "2         1  30-59      3  1525.70       4  1,000 to 2,000  30-59\n",
       "3         1  30-59      3   715.25       3     Below 1,000  30-59\n",
       "4         1  30-59      4  1937.50       1  1,000 to 2,000  30-59"
      ]
     },
     "execution_count": 65,
     "metadata": {},
     "output_type": "execute_result"
    }
   ],
   "source": [
    "# 3b): Discretize Age into 3 bins and add it to the data frame\n",
    "data['age'] = pd.cut(data['age'], bins=[18,29,59,85], labels=['<30', '30-59', '60-85'])\n",
    "data.head()"
   ]
  },
  {
   "cell_type": "code",
   "execution_count": 66,
   "metadata": {},
   "outputs": [
    {
     "data": {
      "text/html": [
       "<div>\n",
       "<style scoped>\n",
       "    .dataframe tbody tr th:only-of-type {\n",
       "        vertical-align: middle;\n",
       "    }\n",
       "\n",
       "    .dataframe tbody tr th {\n",
       "        vertical-align: top;\n",
       "    }\n",
       "\n",
       "    .dataframe thead th {\n",
       "        text-align: right;\n",
       "    }\n",
       "</style>\n",
       "<table border=\"1\" class=\"dataframe\">\n",
       "  <thead>\n",
       "    <tr style=\"text-align: right;\">\n",
       "      <th></th>\n",
       "      <th>in-store</th>\n",
       "      <th>age</th>\n",
       "      <th>items</th>\n",
       "      <th>amount</th>\n",
       "      <th>region</th>\n",
       "      <th>Amount($)</th>\n",
       "      <th>Age</th>\n",
       "    </tr>\n",
       "  </thead>\n",
       "  <tbody>\n",
       "    <tr>\n",
       "      <th>0</th>\n",
       "      <td>0</td>\n",
       "      <td>30-59</td>\n",
       "      <td>4</td>\n",
       "      <td>0-1000</td>\n",
       "      <td>2</td>\n",
       "      <td>Below 1,000</td>\n",
       "      <td>30-59</td>\n",
       "    </tr>\n",
       "    <tr>\n",
       "      <th>1</th>\n",
       "      <td>0</td>\n",
       "      <td>30-59</td>\n",
       "      <td>2</td>\n",
       "      <td>0-1000</td>\n",
       "      <td>2</td>\n",
       "      <td>Below 1,000</td>\n",
       "      <td>30-59</td>\n",
       "    </tr>\n",
       "    <tr>\n",
       "      <th>2</th>\n",
       "      <td>1</td>\n",
       "      <td>30-59</td>\n",
       "      <td>3</td>\n",
       "      <td>1001-2000</td>\n",
       "      <td>4</td>\n",
       "      <td>1,000 to 2,000</td>\n",
       "      <td>30-59</td>\n",
       "    </tr>\n",
       "    <tr>\n",
       "      <th>3</th>\n",
       "      <td>1</td>\n",
       "      <td>30-59</td>\n",
       "      <td>3</td>\n",
       "      <td>0-1000</td>\n",
       "      <td>3</td>\n",
       "      <td>Below 1,000</td>\n",
       "      <td>30-59</td>\n",
       "    </tr>\n",
       "    <tr>\n",
       "      <th>4</th>\n",
       "      <td>1</td>\n",
       "      <td>30-59</td>\n",
       "      <td>4</td>\n",
       "      <td>1001-2000</td>\n",
       "      <td>1</td>\n",
       "      <td>1,000 to 2,000</td>\n",
       "      <td>30-59</td>\n",
       "    </tr>\n",
       "    <tr>\n",
       "      <th>5</th>\n",
       "      <td>0</td>\n",
       "      <td>&lt;30</td>\n",
       "      <td>3</td>\n",
       "      <td>1001-2000</td>\n",
       "      <td>4</td>\n",
       "      <td>1,000 to 2,000</td>\n",
       "      <td>&lt;30</td>\n",
       "    </tr>\n",
       "    <tr>\n",
       "      <th>6</th>\n",
       "      <td>0</td>\n",
       "      <td>30-59</td>\n",
       "      <td>6</td>\n",
       "      <td>0-1000</td>\n",
       "      <td>2</td>\n",
       "      <td>Below 1,000</td>\n",
       "      <td>30-59</td>\n",
       "    </tr>\n",
       "    <tr>\n",
       "      <th>7</th>\n",
       "      <td>1</td>\n",
       "      <td>60-85</td>\n",
       "      <td>5</td>\n",
       "      <td>0-1000</td>\n",
       "      <td>3</td>\n",
       "      <td>Below 1,000</td>\n",
       "      <td>60-85</td>\n",
       "    </tr>\n",
       "    <tr>\n",
       "      <th>8</th>\n",
       "      <td>1</td>\n",
       "      <td>30-59</td>\n",
       "      <td>5</td>\n",
       "      <td>0-1000</td>\n",
       "      <td>1</td>\n",
       "      <td>Below 1,000</td>\n",
       "      <td>30-59</td>\n",
       "    </tr>\n",
       "    <tr>\n",
       "      <th>9</th>\n",
       "      <td>1</td>\n",
       "      <td>30-59</td>\n",
       "      <td>3</td>\n",
       "      <td>0-1000</td>\n",
       "      <td>1</td>\n",
       "      <td>Below 1,000</td>\n",
       "      <td>30-59</td>\n",
       "    </tr>\n",
       "  </tbody>\n",
       "</table>\n",
       "</div>"
      ],
      "text/plain": [
       "   in-store    age  items     amount  region       Amount($)    Age\n",
       "0         0  30-59      4     0-1000       2     Below 1,000  30-59\n",
       "1         0  30-59      2     0-1000       2     Below 1,000  30-59\n",
       "2         1  30-59      3  1001-2000       4  1,000 to 2,000  30-59\n",
       "3         1  30-59      3     0-1000       3     Below 1,000  30-59\n",
       "4         1  30-59      4  1001-2000       1  1,000 to 2,000  30-59\n",
       "5         0    <30      3  1001-2000       4  1,000 to 2,000    <30\n",
       "6         0  30-59      6     0-1000       2     Below 1,000  30-59\n",
       "7         1  60-85      5     0-1000       3     Below 1,000  60-85\n",
       "8         1  30-59      5     0-1000       1     Below 1,000  30-59\n",
       "9         1  30-59      3     0-1000       1     Below 1,000  30-59"
      ]
     },
     "execution_count": 66,
     "metadata": {},
     "output_type": "execute_result"
    }
   ],
   "source": [
    "# 3b): Discretize amount into 3 bins and add it to the data frame\n",
    "data['amount'] = pd.cut(data['amount'], bins=[0,1000,2000,3000], labels=['0-1000', '1001-2000', '2001-3000'])\n",
    "data.head(10)"
   ]
  },
  {
   "cell_type": "code",
   "execution_count": 61,
   "metadata": {},
   "outputs": [],
   "source": [
    "## 4a-4b): set IN-STORE as dependent variable\n",
    "##removing \"in-store\" from features/independent variables\n",
    "variable_name = data.iloc[[1, 2, 3, 4]]"
   ]
  },
  {
   "cell_type": "code",
   "execution_count": 64,
   "metadata": {},
   "outputs": [
    {
     "name": "stdout",
     "output_type": "stream",
     "text": [
      "Summary of feature sample\n"
     ]
    },
    {
     "data": {
      "text/html": [
       "<div>\n",
       "<style scoped>\n",
       "    .dataframe tbody tr th:only-of-type {\n",
       "        vertical-align: middle;\n",
       "    }\n",
       "\n",
       "    .dataframe tbody tr th {\n",
       "        vertical-align: top;\n",
       "    }\n",
       "\n",
       "    .dataframe thead th {\n",
       "        text-align: right;\n",
       "    }\n",
       "</style>\n",
       "<table border=\"1\" class=\"dataframe\">\n",
       "  <thead>\n",
       "    <tr style=\"text-align: right;\">\n",
       "      <th></th>\n",
       "      <th>age</th>\n",
       "      <th>items</th>\n",
       "      <th>amount</th>\n",
       "      <th>region</th>\n",
       "    </tr>\n",
       "  </thead>\n",
       "  <tbody>\n",
       "    <tr>\n",
       "      <th>0</th>\n",
       "      <td>37</td>\n",
       "      <td>4</td>\n",
       "      <td>281.03</td>\n",
       "      <td>2</td>\n",
       "    </tr>\n",
       "    <tr>\n",
       "      <th>1</th>\n",
       "      <td>35</td>\n",
       "      <td>2</td>\n",
       "      <td>219.51</td>\n",
       "      <td>2</td>\n",
       "    </tr>\n",
       "    <tr>\n",
       "      <th>2</th>\n",
       "      <td>45</td>\n",
       "      <td>3</td>\n",
       "      <td>1525.70</td>\n",
       "      <td>4</td>\n",
       "    </tr>\n",
       "    <tr>\n",
       "      <th>3</th>\n",
       "      <td>46</td>\n",
       "      <td>3</td>\n",
       "      <td>715.25</td>\n",
       "      <td>3</td>\n",
       "    </tr>\n",
       "    <tr>\n",
       "      <th>4</th>\n",
       "      <td>33</td>\n",
       "      <td>4</td>\n",
       "      <td>1937.50</td>\n",
       "      <td>1</td>\n",
       "    </tr>\n",
       "  </tbody>\n",
       "</table>\n",
       "</div>"
      ],
      "text/plain": [
       "   age  items   amount  region\n",
       "0   37      4   281.03       2\n",
       "1   35      2   219.51       2\n",
       "2   45      3  1525.70       4\n",
       "3   46      3   715.25       3\n",
       "4   33      4  1937.50       1"
      ]
     },
     "execution_count": 64,
     "metadata": {},
     "output_type": "execute_result"
    }
   ],
   "source": [
    "# 4a-4b): features\n",
    "X_data = data.iloc[:,[1,2,3,4]]\n",
    "print('Summary of feature sample')\n",
    "X_data.head()"
   ]
  },
  {
   "cell_type": "code",
   "execution_count": 65,
   "metadata": {},
   "outputs": [],
   "source": [
    "# 4a-4b): Setting dependent target variable (In-Store)\n",
    "y_data = data['in-store']"
   ]
  },
  {
   "cell_type": "code",
   "execution_count": 66,
   "metadata": {},
   "outputs": [
    {
     "data": {
      "text/html": [
       "<div>\n",
       "<style scoped>\n",
       "    .dataframe tbody tr th:only-of-type {\n",
       "        vertical-align: middle;\n",
       "    }\n",
       "\n",
       "    .dataframe tbody tr th {\n",
       "        vertical-align: top;\n",
       "    }\n",
       "\n",
       "    .dataframe thead th {\n",
       "        text-align: right;\n",
       "    }\n",
       "</style>\n",
       "<table border=\"1\" class=\"dataframe\">\n",
       "  <thead>\n",
       "    <tr style=\"text-align: right;\">\n",
       "      <th></th>\n",
       "      <th>in-store</th>\n",
       "      <th>age</th>\n",
       "      <th>items</th>\n",
       "      <th>amount</th>\n",
       "      <th>region</th>\n",
       "      <th>Amount($)</th>\n",
       "      <th>Age</th>\n",
       "    </tr>\n",
       "  </thead>\n",
       "  <tbody>\n",
       "    <tr>\n",
       "      <th>0</th>\n",
       "      <td>0</td>\n",
       "      <td>30-59</td>\n",
       "      <td>4</td>\n",
       "      <td>281.03</td>\n",
       "      <td>2</td>\n",
       "      <td>Below 1,000</td>\n",
       "      <td>30-59</td>\n",
       "    </tr>\n",
       "    <tr>\n",
       "      <th>1</th>\n",
       "      <td>0</td>\n",
       "      <td>30-59</td>\n",
       "      <td>2</td>\n",
       "      <td>219.51</td>\n",
       "      <td>2</td>\n",
       "      <td>Below 1,000</td>\n",
       "      <td>30-59</td>\n",
       "    </tr>\n",
       "    <tr>\n",
       "      <th>2</th>\n",
       "      <td>1</td>\n",
       "      <td>30-59</td>\n",
       "      <td>3</td>\n",
       "      <td>1525.70</td>\n",
       "      <td>4</td>\n",
       "      <td>1,000 to 2,000</td>\n",
       "      <td>30-59</td>\n",
       "    </tr>\n",
       "    <tr>\n",
       "      <th>3</th>\n",
       "      <td>1</td>\n",
       "      <td>30-59</td>\n",
       "      <td>3</td>\n",
       "      <td>715.25</td>\n",
       "      <td>3</td>\n",
       "      <td>Below 1,000</td>\n",
       "      <td>30-59</td>\n",
       "    </tr>\n",
       "    <tr>\n",
       "      <th>4</th>\n",
       "      <td>1</td>\n",
       "      <td>30-59</td>\n",
       "      <td>4</td>\n",
       "      <td>1937.50</td>\n",
       "      <td>1</td>\n",
       "      <td>1,000 to 2,000</td>\n",
       "      <td>30-59</td>\n",
       "    </tr>\n",
       "  </tbody>\n",
       "</table>\n",
       "</div>"
      ],
      "text/plain": [
       "   in-store    age  items   amount  region       Amount($)    Age\n",
       "0         0  30-59      4   281.03       2     Below 1,000  30-59\n",
       "1         0  30-59      2   219.51       2     Below 1,000  30-59\n",
       "2         1  30-59      3  1525.70       4  1,000 to 2,000  30-59\n",
       "3         1  30-59      3   715.25       3     Below 1,000  30-59\n",
       "4         1  30-59      4  1937.50       1  1,000 to 2,000  30-59"
      ]
     },
     "execution_count": 66,
     "metadata": {},
     "output_type": "execute_result"
    }
   ],
   "source": [
    "# 4a-4b): Discretize Age into 3 bins and add it to the data frame\n",
    "data['age'] = pd.cut(data['age'], bins=[18,29,59,85], labels=['<30', '30-59', '60-85'])\n",
    "data.head()"
   ]
  },
  {
   "cell_type": "code",
   "execution_count": 67,
   "metadata": {},
   "outputs": [
    {
     "data": {
      "text/html": [
       "<div>\n",
       "<style scoped>\n",
       "    .dataframe tbody tr th:only-of-type {\n",
       "        vertical-align: middle;\n",
       "    }\n",
       "\n",
       "    .dataframe tbody tr th {\n",
       "        vertical-align: top;\n",
       "    }\n",
       "\n",
       "    .dataframe thead th {\n",
       "        text-align: right;\n",
       "    }\n",
       "</style>\n",
       "<table border=\"1\" class=\"dataframe\">\n",
       "  <thead>\n",
       "    <tr style=\"text-align: right;\">\n",
       "      <th></th>\n",
       "      <th>in-store</th>\n",
       "      <th>age</th>\n",
       "      <th>items</th>\n",
       "      <th>amount</th>\n",
       "      <th>region</th>\n",
       "      <th>Amount($)</th>\n",
       "      <th>Age</th>\n",
       "    </tr>\n",
       "  </thead>\n",
       "  <tbody>\n",
       "    <tr>\n",
       "      <th>0</th>\n",
       "      <td>0</td>\n",
       "      <td>30-59</td>\n",
       "      <td>4</td>\n",
       "      <td>0-1000</td>\n",
       "      <td>2</td>\n",
       "      <td>Below 1,000</td>\n",
       "      <td>30-59</td>\n",
       "    </tr>\n",
       "    <tr>\n",
       "      <th>1</th>\n",
       "      <td>0</td>\n",
       "      <td>30-59</td>\n",
       "      <td>2</td>\n",
       "      <td>0-1000</td>\n",
       "      <td>2</td>\n",
       "      <td>Below 1,000</td>\n",
       "      <td>30-59</td>\n",
       "    </tr>\n",
       "    <tr>\n",
       "      <th>2</th>\n",
       "      <td>1</td>\n",
       "      <td>30-59</td>\n",
       "      <td>3</td>\n",
       "      <td>1001-2000</td>\n",
       "      <td>4</td>\n",
       "      <td>1,000 to 2,000</td>\n",
       "      <td>30-59</td>\n",
       "    </tr>\n",
       "    <tr>\n",
       "      <th>3</th>\n",
       "      <td>1</td>\n",
       "      <td>30-59</td>\n",
       "      <td>3</td>\n",
       "      <td>0-1000</td>\n",
       "      <td>3</td>\n",
       "      <td>Below 1,000</td>\n",
       "      <td>30-59</td>\n",
       "    </tr>\n",
       "    <tr>\n",
       "      <th>4</th>\n",
       "      <td>1</td>\n",
       "      <td>30-59</td>\n",
       "      <td>4</td>\n",
       "      <td>1001-2000</td>\n",
       "      <td>1</td>\n",
       "      <td>1,000 to 2,000</td>\n",
       "      <td>30-59</td>\n",
       "    </tr>\n",
       "    <tr>\n",
       "      <th>5</th>\n",
       "      <td>0</td>\n",
       "      <td>&lt;30</td>\n",
       "      <td>3</td>\n",
       "      <td>1001-2000</td>\n",
       "      <td>4</td>\n",
       "      <td>1,000 to 2,000</td>\n",
       "      <td>&lt;30</td>\n",
       "    </tr>\n",
       "    <tr>\n",
       "      <th>6</th>\n",
       "      <td>0</td>\n",
       "      <td>30-59</td>\n",
       "      <td>6</td>\n",
       "      <td>0-1000</td>\n",
       "      <td>2</td>\n",
       "      <td>Below 1,000</td>\n",
       "      <td>30-59</td>\n",
       "    </tr>\n",
       "    <tr>\n",
       "      <th>7</th>\n",
       "      <td>1</td>\n",
       "      <td>60-85</td>\n",
       "      <td>5</td>\n",
       "      <td>0-1000</td>\n",
       "      <td>3</td>\n",
       "      <td>Below 1,000</td>\n",
       "      <td>60-85</td>\n",
       "    </tr>\n",
       "    <tr>\n",
       "      <th>8</th>\n",
       "      <td>1</td>\n",
       "      <td>30-59</td>\n",
       "      <td>5</td>\n",
       "      <td>0-1000</td>\n",
       "      <td>1</td>\n",
       "      <td>Below 1,000</td>\n",
       "      <td>30-59</td>\n",
       "    </tr>\n",
       "    <tr>\n",
       "      <th>9</th>\n",
       "      <td>1</td>\n",
       "      <td>30-59</td>\n",
       "      <td>3</td>\n",
       "      <td>0-1000</td>\n",
       "      <td>1</td>\n",
       "      <td>Below 1,000</td>\n",
       "      <td>30-59</td>\n",
       "    </tr>\n",
       "  </tbody>\n",
       "</table>\n",
       "</div>"
      ],
      "text/plain": [
       "   in-store    age  items     amount  region       Amount($)    Age\n",
       "0         0  30-59      4     0-1000       2     Below 1,000  30-59\n",
       "1         0  30-59      2     0-1000       2     Below 1,000  30-59\n",
       "2         1  30-59      3  1001-2000       4  1,000 to 2,000  30-59\n",
       "3         1  30-59      3     0-1000       3     Below 1,000  30-59\n",
       "4         1  30-59      4  1001-2000       1  1,000 to 2,000  30-59\n",
       "5         0    <30      3  1001-2000       4  1,000 to 2,000    <30\n",
       "6         0  30-59      6     0-1000       2     Below 1,000  30-59\n",
       "7         1  60-85      5     0-1000       3     Below 1,000  60-85\n",
       "8         1  30-59      5     0-1000       1     Below 1,000  30-59\n",
       "9         1  30-59      3     0-1000       1     Below 1,000  30-59"
      ]
     },
     "execution_count": 67,
     "metadata": {},
     "output_type": "execute_result"
    }
   ],
   "source": [
    "# 4a-4b): Discretize amount into 3 bins and add it to the data frame\n",
    "data['amount'] = pd.cut(data['amount'], bins=[0,1000,2000,3000], labels=['0-1000', '1001-2000', '2001-3000'])\n",
    "data.head(10)"
   ]
  },
  {
   "cell_type": "markdown",
   "metadata": {},
   "source": [
    "#### Create train and test sets"
   ]
  },
  {
   "cell_type": "code",
   "execution_count": 67,
   "metadata": {},
   "outputs": [],
   "source": [
    "# 3b) Region as dv\n",
    "#Train/Test Split # Split the dataset into 70% Training and 30% Test\n",
    "X_train, X_test, y_train, y_test = train_test_split(X_data, y_data, test_size = .30, random_state = seed)\n"
   ]
  },
  {
   "cell_type": "code",
   "execution_count": 68,
   "metadata": {},
   "outputs": [
    {
     "data": {
      "text/html": [
       "<div>\n",
       "<style scoped>\n",
       "    .dataframe tbody tr th:only-of-type {\n",
       "        vertical-align: middle;\n",
       "    }\n",
       "\n",
       "    .dataframe tbody tr th {\n",
       "        vertical-align: top;\n",
       "    }\n",
       "\n",
       "    .dataframe thead th {\n",
       "        text-align: right;\n",
       "    }\n",
       "</style>\n",
       "<table border=\"1\" class=\"dataframe\">\n",
       "  <thead>\n",
       "    <tr style=\"text-align: right;\">\n",
       "      <th></th>\n",
       "      <th>in-store</th>\n",
       "      <th>age</th>\n",
       "      <th>items</th>\n",
       "      <th>amount</th>\n",
       "    </tr>\n",
       "  </thead>\n",
       "  <tbody>\n",
       "    <tr>\n",
       "      <th>65273</th>\n",
       "      <td>1</td>\n",
       "      <td>46</td>\n",
       "      <td>2</td>\n",
       "      <td>1912.70</td>\n",
       "    </tr>\n",
       "    <tr>\n",
       "      <th>11430</th>\n",
       "      <td>0</td>\n",
       "      <td>60</td>\n",
       "      <td>7</td>\n",
       "      <td>231.78</td>\n",
       "    </tr>\n",
       "    <tr>\n",
       "      <th>46461</th>\n",
       "      <td>0</td>\n",
       "      <td>41</td>\n",
       "      <td>7</td>\n",
       "      <td>1692.70</td>\n",
       "    </tr>\n",
       "    <tr>\n",
       "      <th>20823</th>\n",
       "      <td>0</td>\n",
       "      <td>41</td>\n",
       "      <td>8</td>\n",
       "      <td>390.01</td>\n",
       "    </tr>\n",
       "    <tr>\n",
       "      <th>52831</th>\n",
       "      <td>0</td>\n",
       "      <td>26</td>\n",
       "      <td>5</td>\n",
       "      <td>2399.80</td>\n",
       "    </tr>\n",
       "  </tbody>\n",
       "</table>\n",
       "</div>"
      ],
      "text/plain": [
       "       in-store  age  items   amount\n",
       "65273         1   46      2  1912.70\n",
       "11430         0   60      7   231.78\n",
       "46461         0   41      7  1692.70\n",
       "20823         0   41      8   390.01\n",
       "52831         0   26      5  2399.80"
      ]
     },
     "execution_count": 68,
     "metadata": {},
     "output_type": "execute_result"
    }
   ],
   "source": [
    "# 3b): for region decision tree\n",
    "X_train.head()"
   ]
  },
  {
   "cell_type": "code",
   "execution_count": 69,
   "metadata": {},
   "outputs": [
    {
     "data": {
      "text/plain": [
       "0    2\n",
       "1    2\n",
       "2    4\n",
       "3    3\n",
       "4    1\n",
       "Name: region, dtype: int64"
      ]
     },
     "execution_count": 69,
     "metadata": {},
     "output_type": "execute_result"
    }
   ],
   "source": [
    "# 3b): for region decision tree\n",
    "y_data.head()"
   ]
  },
  {
   "cell_type": "code",
   "execution_count": 68,
   "metadata": {},
   "outputs": [],
   "source": [
    "# 4a) In-Store as dv\n",
    "#Train/Test Split # Split the dataset into 60% Training and 40% Test\n",
    "X_train, X_test, y_train, y_test = train_test_split(X_data, y_data, test_size = .40, random_state = seed)\n"
   ]
  },
  {
   "cell_type": "code",
   "execution_count": 69,
   "metadata": {},
   "outputs": [
    {
     "data": {
      "text/html": [
       "<div>\n",
       "<style scoped>\n",
       "    .dataframe tbody tr th:only-of-type {\n",
       "        vertical-align: middle;\n",
       "    }\n",
       "\n",
       "    .dataframe tbody tr th {\n",
       "        vertical-align: top;\n",
       "    }\n",
       "\n",
       "    .dataframe thead th {\n",
       "        text-align: right;\n",
       "    }\n",
       "</style>\n",
       "<table border=\"1\" class=\"dataframe\">\n",
       "  <thead>\n",
       "    <tr style=\"text-align: right;\">\n",
       "      <th></th>\n",
       "      <th>age</th>\n",
       "      <th>items</th>\n",
       "      <th>amount</th>\n",
       "      <th>region</th>\n",
       "    </tr>\n",
       "  </thead>\n",
       "  <tbody>\n",
       "    <tr>\n",
       "      <th>47746</th>\n",
       "      <td>68</td>\n",
       "      <td>2</td>\n",
       "      <td>158.060</td>\n",
       "      <td>1</td>\n",
       "    </tr>\n",
       "    <tr>\n",
       "      <th>54230</th>\n",
       "      <td>73</td>\n",
       "      <td>2</td>\n",
       "      <td>170.970</td>\n",
       "      <td>2</td>\n",
       "    </tr>\n",
       "    <tr>\n",
       "      <th>10689</th>\n",
       "      <td>50</td>\n",
       "      <td>5</td>\n",
       "      <td>931.480</td>\n",
       "      <td>3</td>\n",
       "    </tr>\n",
       "    <tr>\n",
       "      <th>75762</th>\n",
       "      <td>73</td>\n",
       "      <td>7</td>\n",
       "      <td>6.147</td>\n",
       "      <td>2</td>\n",
       "    </tr>\n",
       "    <tr>\n",
       "      <th>6076</th>\n",
       "      <td>21</td>\n",
       "      <td>8</td>\n",
       "      <td>1247.700</td>\n",
       "      <td>4</td>\n",
       "    </tr>\n",
       "  </tbody>\n",
       "</table>\n",
       "</div>"
      ],
      "text/plain": [
       "       age  items    amount  region\n",
       "47746   68      2   158.060       1\n",
       "54230   73      2   170.970       2\n",
       "10689   50      5   931.480       3\n",
       "75762   73      7     6.147       2\n",
       "6076    21      8  1247.700       4"
      ]
     },
     "execution_count": 69,
     "metadata": {},
     "output_type": "execute_result"
    }
   ],
   "source": [
    "# 4a): for In-Store decision tree\n",
    "X_train.head()"
   ]
  },
  {
   "cell_type": "code",
   "execution_count": 70,
   "metadata": {},
   "outputs": [
    {
     "data": {
      "text/plain": [
       "0    0\n",
       "1    0\n",
       "2    1\n",
       "3    1\n",
       "4    1\n",
       "Name: in-store, dtype: int64"
      ]
     },
     "execution_count": 70,
     "metadata": {},
     "output_type": "execute_result"
    }
   ],
   "source": [
    "# 4b): for in-store decision tree\n",
    "y_data.head()"
   ]
  },
  {
   "cell_type": "markdown",
   "metadata": {},
   "source": [
    "### Modeling"
   ]
  },
  {
   "cell_type": "markdown",
   "metadata": {},
   "source": [
    "#### Evaluating patterns in data using a Decision Tree (DT)"
   ]
  },
  {
   "cell_type": "markdown",
   "metadata": {},
   "source": [
    "##### DV = Region"
   ]
  },
  {
   "cell_type": "code",
   "execution_count": 70,
   "metadata": {},
   "outputs": [],
   "source": [
    "# 3b): DV = region\n",
    "algo = DecisionTreeClassifier(max_depth=3)\n",
    "model = algo.fit(X_train, y_train)\n",
    "preds = model.predict(X_test)"
   ]
  },
  {
   "cell_type": "code",
   "execution_count": 71,
   "metadata": {},
   "outputs": [
    {
     "name": "stdout",
     "output_type": "stream",
     "text": [
      "0.6351171126114862\n",
      "              precision    recall  f1-score   support\n",
      "\n",
      "           1       0.41      0.68      0.51      4838\n",
      "           2       0.90      1.00      0.95      5979\n",
      "           3       0.54      0.11      0.18      5391\n",
      "           4       0.65      0.70      0.67      7786\n",
      "\n",
      "    accuracy                           0.64     23994\n",
      "   macro avg       0.63      0.62      0.58     23994\n",
      "weighted avg       0.64      0.64      0.60     23994\n",
      "\n"
     ]
    }
   ],
   "source": [
    "# performance metrics\n",
    "print(accuracy_score(preds, y_test))\n",
    "print(classification_report(y_test, preds))"
   ]
  },
  {
   "cell_type": "code",
   "execution_count": 73,
   "metadata": {},
   "outputs": [
    {
     "data": {
      "image/png": "[encoded data removed]",
      "text/plain": [
       "<IPython.core.display.Image object>"
      ]
     },
     "execution_count": 73,
     "metadata": {},
     "output_type": "execute_result"
    }
   ],
   "source": [
    "# specifying the region classes\n",
    "# region_values = ['0','1','2','3'] \n",
    "region_values = ['North','South','East','West'] \n",
    "\n",
    "# Decision Tree for REGION\n",
    "dot_data = StringIO()\n",
    "export_graphviz(model, out_file=dot_data, \n",
    "    filled=True, rounded=True,\n",
    "    feature_names=X_data.columns, \n",
    "    class_names=region_values,label='all',precision=1,\n",
    "    special_characters=True)\n",
    "graph = pydotplus.graph_from_dot_data(dot_data.getvalue()) \n",
    "Image(graph.create_png())"
   ]
  },
  {
   "cell_type": "markdown",
   "metadata": {},
   "source": [
    "##### DV = In-store"
   ]
  },
  {
   "cell_type": "code",
   "execution_count": 71,
   "metadata": {},
   "outputs": [],
   "source": [
    "# 4a): DV = in-store\n",
    "algo = DecisionTreeClassifier(max_depth=3)\n",
    "model = algo.fit(X_train, y_train)\n",
    "preds = model.predict(X_test)"
   ]
  },
  {
   "cell_type": "code",
   "execution_count": 72,
   "metadata": {},
   "outputs": [
    {
     "name": "stdout",
     "output_type": "stream",
     "text": [
      "0.8361777944486122\n",
      "              precision    recall  f1-score   support\n",
      "\n",
      "           0       1.00      0.67      0.80     15947\n",
      "           1       0.75      1.00      0.86     16045\n",
      "\n",
      "    accuracy                           0.84     31992\n",
      "   macro avg       0.88      0.84      0.83     31992\n",
      "weighted avg       0.88      0.84      0.83     31992\n",
      "\n"
     ]
    }
   ],
   "source": [
    "# performance metrics\n",
    "print(accuracy_score(preds, y_test))\n",
    "print(classification_report(y_test, preds))"
   ]
  },
  {
   "cell_type": "code",
   "execution_count": 73,
   "metadata": {},
   "outputs": [
    {
     "data": {
      "image/png": "[encoded data removed]",
      "text/plain": [
       "<IPython.core.display.Image object>"
      ]
     },
     "execution_count": 73,
     "metadata": {},
     "output_type": "execute_result"
    }
   ],
   "source": [
    "# specifying the in-store classes\n",
    "# in-store_values = ['0','1'] \n",
    "\n",
    "instore_values = ['Online', 'In-store']\n",
    "\n",
    "# Decision Tree for IN-STORE\n",
    "dot_data = StringIO()\n",
    "export_graphviz(model, out_file=dot_data, \n",
    "    filled=True, rounded=True,\n",
    "    feature_names=X_data.columns, \n",
    "    class_names=instore_values,label='all',precision=1,\n",
    "    special_characters=True)\n",
    "graph = pydotplus.graph_from_dot_data(dot_data.getvalue()) \n",
    "Image(graph.create_png())"
   ]
  },
  {
   "cell_type": "markdown",
   "metadata": {},
   "source": [
    "### Make Predictions - Region"
   ]
  },
  {
   "cell_type": "code",
   "execution_count": 74,
   "metadata": {},
   "outputs": [
    {
     "data": {
      "text/plain": [
       "0.6412853213303326"
      ]
     },
     "execution_count": 74,
     "metadata": {},
     "output_type": "execute_result"
    }
   ],
   "source": [
    "# Using simple Decision Tree classifier - REGION\n",
    "dt_clf = tree.DecisionTreeClassifier(max_depth=5)\n",
    "dt_clf.fit(X_train, y_train)\n",
    "dt_clf.score(X_test, y_test)"
   ]
  },
  {
   "cell_type": "code",
   "execution_count": 75,
   "metadata": {},
   "outputs": [
    {
     "data": {
      "text/plain": [
       "array([[2531,    0, 1082, 1225],\n",
       "       [   0, 5979,    0,    0],\n",
       "       [2100,  226, 1251, 1814],\n",
       "       [1701,  411,   48, 5626]], dtype=int64)"
      ]
     },
     "execution_count": 75,
     "metadata": {},
     "output_type": "execute_result"
    }
   ],
   "source": [
    "#Region\n",
    "y_pred = dt_clf.predict(X_test)\n",
    "\n",
    "confusion_matrix(y_test, y_pred)"
   ]
  },
  {
   "cell_type": "code",
   "execution_count": 76,
   "metadata": {},
   "outputs": [
    {
     "data": {
      "text/plain": [
       "0.5797699424856214"
      ]
     },
     "execution_count": 76,
     "metadata": {},
     "output_type": "execute_result"
    }
   ],
   "source": [
    "# Using Random Forest classifier - REGION\n",
    "rf_clf = ensemble.RandomForestClassifier(n_estimators=100)\n",
    "rf_clf.fit(X_train, y_train)\n",
    "rf_clf.score(X_test, y_test)"
   ]
  },
  {
   "cell_type": "code",
   "execution_count": 77,
   "metadata": {},
   "outputs": [
    {
     "data": {
      "text/plain": [
       "0.6417854463615904"
      ]
     },
     "execution_count": 77,
     "metadata": {},
     "output_type": "execute_result"
    }
   ],
   "source": [
    "# Using Gradient Boosting classifier - REGION\n",
    "gb_clf = ensemble.GradientBoostingClassifier()\n",
    "gb_clf.fit(X_train, y_train)\n",
    "gb_clf.score(X_test, y_test)"
   ]
  },
  {
   "cell_type": "code",
   "execution_count": 78,
   "metadata": {},
   "outputs": [
    {
     "data": {
      "text/plain": [
       "0.6428690505959823"
      ]
     },
     "execution_count": 78,
     "metadata": {},
     "output_type": "execute_result"
    }
   ],
   "source": [
    "# Tune Gradient booster.\n",
    "gb_clf = ensemble.GradientBoostingClassifier(n_estimators=50)\n",
    "gb_clf.fit(X_train,y_train)\n",
    "gb_clf.score(X_test, y_test)"
   ]
  },
  {
   "cell_type": "markdown",
   "metadata": {},
   "source": [
    "#### Select Models"
   ]
  },
  {
   "cell_type": "code",
   "execution_count": 79,
   "metadata": {},
   "outputs": [],
   "source": [
    "#DV = Region\n",
    "algos_Class = []\n",
    "algos_Class.append(('Decision Tree Classifier', DecisionTreeClassifier()))\n",
    "algos_Class.append(('Random Forest Classifier', RandomForestClassifier()))\n",
    "algos_Class.append(('Gradient Boosting', GradientBoostingClassifier()))"
   ]
  },
  {
   "cell_type": "markdown",
   "metadata": {},
   "source": [
    "### Make Predictions - In-Store"
   ]
  },
  {
   "cell_type": "code",
   "execution_count": 74,
   "metadata": {},
   "outputs": [
    {
     "data": {
      "text/plain": [
       "0.8662478119529883"
      ]
     },
     "execution_count": 74,
     "metadata": {},
     "output_type": "execute_result"
    }
   ],
   "source": [
    "# Using simple Decision Tree classifier - In-Store\n",
    "dt_clf = tree.DecisionTreeClassifier(max_depth=5)\n",
    "dt_clf.fit(X_train, y_train)\n",
    "dt_clf.score(X_test, y_test)"
   ]
  },
  {
   "cell_type": "code",
   "execution_count": 75,
   "metadata": {},
   "outputs": [
    {
     "data": {
      "text/plain": [
       "array([[11674,  4273],\n",
       "       [    6, 16039]], dtype=int64)"
      ]
     },
     "execution_count": 75,
     "metadata": {},
     "output_type": "execute_result"
    }
   ],
   "source": [
    "y_pred = dt_clf.predict(X_test)\n",
    "\n",
    "confusion_matrix(y_test, y_pred)"
   ]
  },
  {
   "cell_type": "code",
   "execution_count": 76,
   "metadata": {},
   "outputs": [
    {
     "data": {
      "text/plain": [
       "0.8596524131032758"
      ]
     },
     "execution_count": 76,
     "metadata": {},
     "output_type": "execute_result"
    }
   ],
   "source": [
    "# Using Random Forest classifier - In-Store\n",
    "rf_clf = ensemble.RandomForestClassifier(n_estimators=100)\n",
    "rf_clf.fit(X_train, y_train)\n",
    "rf_clf.score(X_test, y_test)"
   ]
  },
  {
   "cell_type": "code",
   "execution_count": 77,
   "metadata": {},
   "outputs": [
    {
     "data": {
      "text/plain": [
       "0.8862215553888472"
      ]
     },
     "execution_count": 77,
     "metadata": {},
     "output_type": "execute_result"
    }
   ],
   "source": [
    "# Using Gradient Boosting classifier - In-Store\n",
    "gb_clf = ensemble.GradientBoostingClassifier()\n",
    "gb_clf.fit(X_train, y_train)\n",
    "gb_clf.score(X_test, y_test)"
   ]
  },
  {
   "cell_type": "code",
   "execution_count": 78,
   "metadata": {},
   "outputs": [
    {
     "data": {
      "text/plain": [
       "0.8827206801700425"
      ]
     },
     "execution_count": 78,
     "metadata": {},
     "output_type": "execute_result"
    }
   ],
   "source": [
    "# Tune Gradient booster.\n",
    "gb_clf = ensemble.GradientBoostingClassifier(n_estimators=50)\n",
    "gb_clf.fit(X_train,y_train)\n",
    "gb_clf.score(X_test, y_test)"
   ]
  },
  {
   "cell_type": "markdown",
   "metadata": {},
   "source": [
    "#### Select Models"
   ]
  },
  {
   "cell_type": "code",
   "execution_count": 79,
   "metadata": {},
   "outputs": [],
   "source": [
    "#DV = In-Store\n",
    "algos_Class = []\n",
    "algos_Class.append(('Decision Tree Classifier', DecisionTreeClassifier()))\n",
    "algos_Class.append(('Random Forest Classifier', RandomForestClassifier()))\n",
    "algos_Class.append(('Gradient Boosting', GradientBoostingClassifier()))"
   ]
  },
  {
   "cell_type": "markdown",
   "metadata": {},
   "source": [
    "### CV (cross-validation)"
   ]
  },
  {
   "cell_type": "code",
   "execution_count": 81,
   "metadata": {},
   "outputs": [
    {
     "name": "stdout",
     "output_type": "stream",
     "text": [
      "[0.63623406 0.63604651 0.63505758]\n",
      "Accuracy is: 0.636\n"
     ]
    }
   ],
   "source": [
    "#Accuracy for Region\n",
    "result = cross_val_score(model, X_data,y_data, cv=3, scoring='accuracy')\n",
    "print(cross_val_score(model, X_data, y_data, cv=3))\n",
    "print('Accuracy is: %.3f' % result.mean())"
   ]
  },
  {
   "cell_type": "code",
   "execution_count": 82,
   "metadata": {},
   "outputs": [
    {
     "name": "stdout",
     "output_type": "stream",
     "text": [
      "Decision Tree Classifier 0.5615848835422405\n",
      "Random Forest Classifier 0.5849284946804052\n",
      "Gradient Boosting 0.643281380474906\n"
     ]
    }
   ],
   "source": [
    "#DV = Region\n",
    "#classification\n",
    "results = []\n",
    "names = []\n",
    "for name, model in algos_Class:\n",
    "    result = cross_val_score(model, X_data,y_data, cv=3, scoring='accuracy')\n",
    "    names.append(name)\n",
    "    results.append(result)\n",
    "    \n",
    "for i in range(len(names)):\n",
    "    print(names[i],results[i].mean())"
   ]
  },
  {
   "cell_type": "code",
   "execution_count": 83,
   "metadata": {},
   "outputs": [
    {
     "name": "stdout",
     "output_type": "stream",
     "text": [
      "Decision Tree Classifier 0.5615848835422405\n",
      "Random Forest Classifier 0.5849284946804052\n",
      "Gradient Boosting 0.643281380474906\n",
      "Decision Tree Classifier 0.5650358091041948\n",
      "Random Forest Classifier 0.5845784582797487\n",
      "Gradient Boosting 0.6434188928154053\n"
     ]
    }
   ],
   "source": [
    " #Set region as dv; unbinned data\n",
    "\n",
    "for name, model in algos_Class:\n",
    "    kfold = KFold(n_splits=3, random_state=seed, shuffle=True)\n",
    "    result = cross_val_score(model,X_data,y_data, cv=kfold, scoring='accuracy')\n",
    "    names.append(name)\n",
    "    results.append(result)\n",
    "    #msg = '%s: %.4f (%.4f)' % (name, result.mean(), result.std())\n",
    "    #print(msg)\n",
    "\n",
    "# print results\n",
    "for i in range(len(names)):\n",
    "    print(names[i],results[i].mean())"
   ]
  },
  {
   "cell_type": "code",
   "execution_count": 80,
   "metadata": {},
   "outputs": [
    {
     "name": "stdout",
     "output_type": "stream",
     "text": [
      "[0.83342086 0.83510878 0.83472748]\n",
      "Accuracy is: 0.834\n"
     ]
    }
   ],
   "source": [
    "#Accuracy for In-Store\n",
    "result = cross_val_score(model, X_data,y_data, cv=3, scoring='accuracy')\n",
    "print(cross_val_score(model, X, y_data, cv=3))\n",
    "print('Accuracy is: %.3f' % result.mean())"
   ]
  },
  {
   "cell_type": "code",
   "execution_count": 81,
   "metadata": {},
   "outputs": [
    {
     "name": "stdout",
     "output_type": "stream",
     "text": [
      "Decision Tree Classifier 0.845521936487723\n",
      "Random Forest Classifier 0.8600132693813386\n",
      "Gradient Boosting 0.8873454123499366\n"
     ]
    }
   ],
   "source": [
    "#DV = In-Store\n",
    "#classification\n",
    "results = []\n",
    "names = []\n",
    "for name, model in algos_Class:\n",
    "    result = cross_val_score(model, X_data,y_data, cv=3, scoring='accuracy')\n",
    "    names.append(name)\n",
    "    results.append(result)\n",
    "    \n",
    "for i in range(len(names)):\n",
    "    print(names[i],results[i].mean())"
   ]
  },
  {
   "cell_type": "code",
   "execution_count": 82,
   "metadata": {},
   "outputs": [
    {
     "name": "stdout",
     "output_type": "stream",
     "text": [
      "Decision Tree Classifier 0.845521936487723\n",
      "Random Forest Classifier 0.8600132693813386\n",
      "Gradient Boosting 0.8873454123499366\n",
      "Decision Tree Classifier 0.8456970041677679\n",
      "Random Forest Classifier 0.8614636418210296\n",
      "Gradient Boosting 0.8868577876304479\n"
     ]
    }
   ],
   "source": [
    " #Set in-store as dv; unbinned data\n",
    "\n",
    "for name, model in algos_Class:\n",
    "    kfold = KFold(n_splits=3, random_state=seed, shuffle=True)\n",
    "    result = cross_val_score(model,X_data,y_data, cv=kfold, scoring='accuracy')\n",
    "    names.append(name)\n",
    "    results.append(result)\n",
    "    #msg = '%s: %.4f (%.4f)' % (name, result.mean(), result.std())\n",
    "    #print(msg)\n",
    "\n",
    "# print results\n",
    "for i in range(len(names)):\n",
    "    print(names[i],results[i].mean())"
   ]
  }
 ],
 "metadata": {
  "kernelspec": {
   "display_name": "Python 3",
   "language": "python",
   "name": "python3"
  },
  "language_info": {
   "codemirror_mode": {
    "name": "ipython",
    "version": 3
   },
   "file_extension": ".py",
   "mimetype": "text/x-python",
   "name": "python",
   "nbconvert_exporter": "python",
   "pygments_lexer": "ipython3",
   "version": "3.7.6"
  }
 },
 "nbformat": 4,
 "nbformat_minor": 4
}
